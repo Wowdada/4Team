{
 "cells": [
  {
   "cell_type": "code",
   "execution_count": 1,
   "id": "c6ed7cfa",
   "metadata": {},
   "outputs": [],
   "source": [
    "import pandas as pd\n",
    "import numpy as np\n",
    "import seaborn as sns\n",
    "import matplotlib.pyplot as plt\n",
    "from sklearn.cluster import KMeans\n",
    "import matplotlib.pyplot as plt\n",
    "from sklearn.decomposition import PCA\n",
    "from scipy.stats import spearmanr, kendalltau"
   ]
  },
  {
   "cell_type": "code",
   "execution_count": 2,
   "id": "df9ac75b",
   "metadata": {},
   "outputs": [],
   "source": [
    "df = pd.read_csv(\"marketing_advanced.csv\", encoding=\"euc-kr\")"
   ]
  },
  {
   "cell_type": "code",
   "execution_count": 3,
   "id": "07e135f7",
   "metadata": {},
   "outputs": [
    {
     "data": {
      "application/vnd.microsoft.datawrangler.viewer.v0+json": {
       "columns": [
        {
         "name": "index",
         "rawType": "int64",
         "type": "integer"
        },
        {
         "name": "order_id",
         "rawType": "object",
         "type": "string"
        },
        {
         "name": "customer_id",
         "rawType": "object",
         "type": "string"
        },
        {
         "name": "order_status",
         "rawType": "object",
         "type": "string"
        },
        {
         "name": "order_purchase_timestamp",
         "rawType": "object",
         "type": "string"
        },
        {
         "name": "order_approved_at",
         "rawType": "object",
         "type": "string"
        },
        {
         "name": "order_delivered_timestamp",
         "rawType": "object",
         "type": "string"
        },
        {
         "name": "order_estimated_delivery_date",
         "rawType": "object",
         "type": "string"
        },
        {
         "name": "age",
         "rawType": "int64",
         "type": "integer"
        },
        {
         "name": "gender",
         "rawType": "object",
         "type": "string"
        },
        {
         "name": "country",
         "rawType": "object",
         "type": "string"
        },
        {
         "name": "payment_type",
         "rawType": "object",
         "type": "string"
        },
        {
         "name": "payment_installments",
         "rawType": "int64",
         "type": "integer"
        },
        {
         "name": "seller_id",
         "rawType": "object",
         "type": "string"
        },
        {
         "name": "shipping_charges",
         "rawType": "int64",
         "type": "integer"
        },
        {
         "name": "category1",
         "rawType": "object",
         "type": "string"
        },
        {
         "name": "category2",
         "rawType": "object",
         "type": "string"
        },
        {
         "name": "price",
         "rawType": "float64",
         "type": "float"
        },
        {
         "name": "delivery_delay_days",
         "rawType": "float64",
         "type": "float"
        },
        {
         "name": "approval_delay_minutes",
         "rawType": "float64",
         "type": "float"
        },
        {
         "name": "weight_kg",
         "rawType": "int64",
         "type": "integer"
        },
        {
         "name": "volume_cm3",
         "rawType": "float64",
         "type": "float"
        },
        {
         "name": "review_score",
         "rawType": "int64",
         "type": "integer"
        },
        {
         "name": "marketing_info_agree",
         "rawType": "object",
         "type": "string"
        },
        {
         "name": "agegroup",
         "rawType": "object",
         "type": "string"
        },
        {
         "name": "product_id",
         "rawType": "object",
         "type": "string"
        }
       ],
       "ref": "24a54e7e-9ff9-49e6-83d7-f5fe657f9881",
       "rows": [
        [
         "0",
         "e22acc9c116caa3f2b7121bbb380d08e",
         "0000366f3b9a7992bf8c76cfdf3221e2",
         "delivered",
         "2024-10-10 16:29",
         "2024-10-10 19:21",
         "2024-10-16 20:48",
         "2024-10-21",
         "56",
         "남성",
         "핀란드",
         "credit_card",
         "8",
         "da8622b14eb17ae2831f4ac5b9dab84a",
         "12",
         "식품",
         "건강식품",
         "62.17",
         "-5.0",
         "15.0",
         "5",
         "11845.97",
         "5",
         "y",
         "50대",
         "d2e1b02d25294e6f"
        ],
        [
         "1",
         "3594e05a005ac4d06a72673270ef9ec9",
         "0000b849f77a49e4a4ce2b2a4ca5be3f",
         "delivered",
         "2024-10-07 17:47",
         "2024-10-07 19:14",
         "2024-10-10 18:02",
         "2024-10-15",
         "61",
         "여성",
         "한국",
         "credit_card",
         "1",
         "138dbe45fc62f1e244378131a6801526",
         "8",
         "식품",
         "건강식품",
         "57.9",
         "-5.0",
         "434.0",
         "1",
         "25981.89",
         "4",
         "y",
         "50대",
         "d2e1b02d25294e6f"
        ],
        [
         "2",
         "b33ec3b699337181488304f362a6b734",
         "0000f46a3911fa3c0805444483337064",
         "delivered",
         "2023-08-10 16:35",
         "2023-08-10 19:29",
         "2023-09-05 14:38",
         "2023-09-07",
         "51",
         "남성",
         "필리핀",
         "credit_card",
         "8",
         "3d871de0142ce09b7081e2b9d1733cb1",
         "17",
         "식품",
         "건강식품",
         "60.34",
         "-2.0",
         "0.0",
         "0",
         "26478.17",
         "2",
         "n",
         "50대",
         "d2e1b02d25294e6f"
        ],
        [
         "3",
         "41272756ecddd9a9ed0180413cc22fb6",
         "0000f6ccb0745a6a4b88665a16c9f078",
         "delivered",
         "2024-03-12 15:03",
         "2024-03-12 17:00",
         "2024-04-01 21:23",
         "2024-04-13",
         "34",
         "여성",
         "덴마크",
         "credit_card",
         "4",
         "ef506c96320abeedfb894c34db06f478",
         "17",
         "전자제품",
         "음향가전",
         "128.17",
         "-12.0",
         "20.0",
         "10",
         "208064.64",
         "4",
         "y",
         "30대",
         "f9614bb192ee4050"
        ],
        [
         "4",
         "d957021f1127559cd947b62533f484f7",
         "0004aac84e0df4da2b147fca70cf8255",
         "delivered",
         "2024-04-14 13:49",
         "2024-04-14 15:41",
         "2024-04-27 23:08",
         "2024-05-05",
         "42",
         "남성",
         "벨기에",
         "credit_card",
         "6",
         "70a12e78e608ac31179aea7f8422044b",
         "16",
         "전자제품",
         "주방가전",
         "110.15",
         "-8.0",
         "21.0",
         "5",
         "185186.95",
         "2",
         "y",
         "40대",
         "76a306b4cd254f91"
        ],
        [
         "5",
         "3e470077b690ea3e3d501cffb5e0c499",
         "0004bd2a26a76fe21f786e4fbd80607f",
         "delivered",
         "2024-09-05 19:12",
         "2024-09-05 21:23",
         "2024-09-07 16:12",
         "2024-09-19",
         "60",
         "남성",
         "중국",
         "credit_card",
         "8",
         "ff063b022a9a0aab91bad2c9088760b7",
         "12",
         "스포츠용품",
         "낚세",
         "47.11",
         "-12.0",
         "15.0",
         "5",
         "104803.74",
         "3",
         "y",
         "50대",
         "08473b6a9bd24eec"
        ],
        [
         "6",
         "d0028facea13f508e880202d7097a5a1",
         "00050ab1314c0e55a6ca13cf7181fecf",
         "delivered",
         "2024-09-20 17:23",
         "2024-09-20 18:21",
         "2024-09-27 12:08",
         "2024-10-09",
         "58",
         "여성",
         "일본",
         "wallet",
         "1",
         "ea8482cd71df3c1969d7b9473ff13abc",
         "7",
         "스포츠용품",
         "캠핑",
         "40.91",
         "-12.0",
         "6654.0",
         "5",
         "79092.24",
         "4",
         "y",
         "50대",
         "4e3c726f56f94f5b"
        ],
        [
         "7",
         "44e608f2db00c74a1fe329de44416a4e",
         "00053a61a98854899e70ed204dd4bafe",
         "delivered",
         "2024-07-28 12:48",
         "2024-07-28 15:15",
         "2024-08-16 19:02",
         "2024-08-26",
         "54",
         "여성",
         "핀란드",
         "credit_card",
         "3",
         "218d46b86c1881d022bce9c68a7d4b15",
         "18",
         "스포츠용품",
         "낚세",
         "48.01",
         "-10.0",
         "17.0",
         "5",
         "81180.21",
         "2",
         "y",
         "50대",
         "08473b6a9bd24eec"
        ],
        [
         "8",
         "44e608f2db00c74a1fe329de44416a4e",
         "00053a61a98854899e70ed204dd4bafe",
         "delivered",
         "2024-07-28 16:30",
         "2024-07-28 16:45",
         "2024-08-16 19:02",
         "2024-08-26",
         "54",
         "여성",
         "핀란드",
         "credit_card",
         "3",
         "218d46b86c1881d022bce9c68a7d4b15",
         "18",
         "식품",
         "신선식품",
         "82.62",
         "-10.0",
         "17.0",
         "10",
         "16475.92",
         "2",
         "y",
         "50대",
         "71926bbfce2a47bc"
        ],
        [
         "9",
         "ae76bef74b97bcb0b3e355e60d9a6f9c",
         "0005e1862207bf6ccc02e4228effd9a0",
         "delivered",
         "2023-08-04 16:18",
         "2023-08-04 18:52",
         "2023-08-09 8:33",
         "2023-09-06",
         "38",
         "남성",
         "덴마크",
         "credit_card",
         "3",
         "0cbcee27c791afa0cdcb08587a2013a8",
         "15",
         "의류",
         "파티의류",
         "32.43",
         "-28.0",
         "11.0",
         "1",
         "59244.7",
         "3",
         "y",
         "30대",
         "64629adebdc649d6"
        ]
       ],
       "shape": {
        "columns": 25,
        "rows": 10
       }
      },
      "text/html": [
       "<div>\n",
       "<style scoped>\n",
       "    .dataframe tbody tr th:only-of-type {\n",
       "        vertical-align: middle;\n",
       "    }\n",
       "\n",
       "    .dataframe tbody tr th {\n",
       "        vertical-align: top;\n",
       "    }\n",
       "\n",
       "    .dataframe thead th {\n",
       "        text-align: right;\n",
       "    }\n",
       "</style>\n",
       "<table border=\"1\" class=\"dataframe\">\n",
       "  <thead>\n",
       "    <tr style=\"text-align: right;\">\n",
       "      <th></th>\n",
       "      <th>order_id</th>\n",
       "      <th>customer_id</th>\n",
       "      <th>order_status</th>\n",
       "      <th>order_purchase_timestamp</th>\n",
       "      <th>order_approved_at</th>\n",
       "      <th>order_delivered_timestamp</th>\n",
       "      <th>order_estimated_delivery_date</th>\n",
       "      <th>age</th>\n",
       "      <th>gender</th>\n",
       "      <th>country</th>\n",
       "      <th>...</th>\n",
       "      <th>category2</th>\n",
       "      <th>price</th>\n",
       "      <th>delivery_delay_days</th>\n",
       "      <th>approval_delay_minutes</th>\n",
       "      <th>weight_kg</th>\n",
       "      <th>volume_cm3</th>\n",
       "      <th>review_score</th>\n",
       "      <th>marketing_info_agree</th>\n",
       "      <th>agegroup</th>\n",
       "      <th>product_id</th>\n",
       "    </tr>\n",
       "  </thead>\n",
       "  <tbody>\n",
       "    <tr>\n",
       "      <th>0</th>\n",
       "      <td>e22acc9c116caa3f2b7121bbb380d08e</td>\n",
       "      <td>0000366f3b9a7992bf8c76cfdf3221e2</td>\n",
       "      <td>delivered</td>\n",
       "      <td>2024-10-10 16:29</td>\n",
       "      <td>2024-10-10 19:21</td>\n",
       "      <td>2024-10-16 20:48</td>\n",
       "      <td>2024-10-21</td>\n",
       "      <td>56</td>\n",
       "      <td>남성</td>\n",
       "      <td>핀란드</td>\n",
       "      <td>...</td>\n",
       "      <td>건강식품</td>\n",
       "      <td>62.17</td>\n",
       "      <td>-5.0</td>\n",
       "      <td>15.0</td>\n",
       "      <td>5</td>\n",
       "      <td>11845.97</td>\n",
       "      <td>5</td>\n",
       "      <td>y</td>\n",
       "      <td>50대</td>\n",
       "      <td>d2e1b02d25294e6f</td>\n",
       "    </tr>\n",
       "    <tr>\n",
       "      <th>1</th>\n",
       "      <td>3594e05a005ac4d06a72673270ef9ec9</td>\n",
       "      <td>0000b849f77a49e4a4ce2b2a4ca5be3f</td>\n",
       "      <td>delivered</td>\n",
       "      <td>2024-10-07 17:47</td>\n",
       "      <td>2024-10-07 19:14</td>\n",
       "      <td>2024-10-10 18:02</td>\n",
       "      <td>2024-10-15</td>\n",
       "      <td>61</td>\n",
       "      <td>여성</td>\n",
       "      <td>한국</td>\n",
       "      <td>...</td>\n",
       "      <td>건강식품</td>\n",
       "      <td>57.90</td>\n",
       "      <td>-5.0</td>\n",
       "      <td>434.0</td>\n",
       "      <td>1</td>\n",
       "      <td>25981.89</td>\n",
       "      <td>4</td>\n",
       "      <td>y</td>\n",
       "      <td>50대</td>\n",
       "      <td>d2e1b02d25294e6f</td>\n",
       "    </tr>\n",
       "    <tr>\n",
       "      <th>2</th>\n",
       "      <td>b33ec3b699337181488304f362a6b734</td>\n",
       "      <td>0000f46a3911fa3c0805444483337064</td>\n",
       "      <td>delivered</td>\n",
       "      <td>2023-08-10 16:35</td>\n",
       "      <td>2023-08-10 19:29</td>\n",
       "      <td>2023-09-05 14:38</td>\n",
       "      <td>2023-09-07</td>\n",
       "      <td>51</td>\n",
       "      <td>남성</td>\n",
       "      <td>필리핀</td>\n",
       "      <td>...</td>\n",
       "      <td>건강식품</td>\n",
       "      <td>60.34</td>\n",
       "      <td>-2.0</td>\n",
       "      <td>0.0</td>\n",
       "      <td>0</td>\n",
       "      <td>26478.17</td>\n",
       "      <td>2</td>\n",
       "      <td>n</td>\n",
       "      <td>50대</td>\n",
       "      <td>d2e1b02d25294e6f</td>\n",
       "    </tr>\n",
       "    <tr>\n",
       "      <th>3</th>\n",
       "      <td>41272756ecddd9a9ed0180413cc22fb6</td>\n",
       "      <td>0000f6ccb0745a6a4b88665a16c9f078</td>\n",
       "      <td>delivered</td>\n",
       "      <td>2024-03-12 15:03</td>\n",
       "      <td>2024-03-12 17:00</td>\n",
       "      <td>2024-04-01 21:23</td>\n",
       "      <td>2024-04-13</td>\n",
       "      <td>34</td>\n",
       "      <td>여성</td>\n",
       "      <td>덴마크</td>\n",
       "      <td>...</td>\n",
       "      <td>음향가전</td>\n",
       "      <td>128.17</td>\n",
       "      <td>-12.0</td>\n",
       "      <td>20.0</td>\n",
       "      <td>10</td>\n",
       "      <td>208064.64</td>\n",
       "      <td>4</td>\n",
       "      <td>y</td>\n",
       "      <td>30대</td>\n",
       "      <td>f9614bb192ee4050</td>\n",
       "    </tr>\n",
       "    <tr>\n",
       "      <th>4</th>\n",
       "      <td>d957021f1127559cd947b62533f484f7</td>\n",
       "      <td>0004aac84e0df4da2b147fca70cf8255</td>\n",
       "      <td>delivered</td>\n",
       "      <td>2024-04-14 13:49</td>\n",
       "      <td>2024-04-14 15:41</td>\n",
       "      <td>2024-04-27 23:08</td>\n",
       "      <td>2024-05-05</td>\n",
       "      <td>42</td>\n",
       "      <td>남성</td>\n",
       "      <td>벨기에</td>\n",
       "      <td>...</td>\n",
       "      <td>주방가전</td>\n",
       "      <td>110.15</td>\n",
       "      <td>-8.0</td>\n",
       "      <td>21.0</td>\n",
       "      <td>5</td>\n",
       "      <td>185186.95</td>\n",
       "      <td>2</td>\n",
       "      <td>y</td>\n",
       "      <td>40대</td>\n",
       "      <td>76a306b4cd254f91</td>\n",
       "    </tr>\n",
       "    <tr>\n",
       "      <th>5</th>\n",
       "      <td>3e470077b690ea3e3d501cffb5e0c499</td>\n",
       "      <td>0004bd2a26a76fe21f786e4fbd80607f</td>\n",
       "      <td>delivered</td>\n",
       "      <td>2024-09-05 19:12</td>\n",
       "      <td>2024-09-05 21:23</td>\n",
       "      <td>2024-09-07 16:12</td>\n",
       "      <td>2024-09-19</td>\n",
       "      <td>60</td>\n",
       "      <td>남성</td>\n",
       "      <td>중국</td>\n",
       "      <td>...</td>\n",
       "      <td>낚세</td>\n",
       "      <td>47.11</td>\n",
       "      <td>-12.0</td>\n",
       "      <td>15.0</td>\n",
       "      <td>5</td>\n",
       "      <td>104803.74</td>\n",
       "      <td>3</td>\n",
       "      <td>y</td>\n",
       "      <td>50대</td>\n",
       "      <td>08473b6a9bd24eec</td>\n",
       "    </tr>\n",
       "    <tr>\n",
       "      <th>6</th>\n",
       "      <td>d0028facea13f508e880202d7097a5a1</td>\n",
       "      <td>00050ab1314c0e55a6ca13cf7181fecf</td>\n",
       "      <td>delivered</td>\n",
       "      <td>2024-09-20 17:23</td>\n",
       "      <td>2024-09-20 18:21</td>\n",
       "      <td>2024-09-27 12:08</td>\n",
       "      <td>2024-10-09</td>\n",
       "      <td>58</td>\n",
       "      <td>여성</td>\n",
       "      <td>일본</td>\n",
       "      <td>...</td>\n",
       "      <td>캠핑</td>\n",
       "      <td>40.91</td>\n",
       "      <td>-12.0</td>\n",
       "      <td>6654.0</td>\n",
       "      <td>5</td>\n",
       "      <td>79092.24</td>\n",
       "      <td>4</td>\n",
       "      <td>y</td>\n",
       "      <td>50대</td>\n",
       "      <td>4e3c726f56f94f5b</td>\n",
       "    </tr>\n",
       "    <tr>\n",
       "      <th>7</th>\n",
       "      <td>44e608f2db00c74a1fe329de44416a4e</td>\n",
       "      <td>00053a61a98854899e70ed204dd4bafe</td>\n",
       "      <td>delivered</td>\n",
       "      <td>2024-07-28 12:48</td>\n",
       "      <td>2024-07-28 15:15</td>\n",
       "      <td>2024-08-16 19:02</td>\n",
       "      <td>2024-08-26</td>\n",
       "      <td>54</td>\n",
       "      <td>여성</td>\n",
       "      <td>핀란드</td>\n",
       "      <td>...</td>\n",
       "      <td>낚세</td>\n",
       "      <td>48.01</td>\n",
       "      <td>-10.0</td>\n",
       "      <td>17.0</td>\n",
       "      <td>5</td>\n",
       "      <td>81180.21</td>\n",
       "      <td>2</td>\n",
       "      <td>y</td>\n",
       "      <td>50대</td>\n",
       "      <td>08473b6a9bd24eec</td>\n",
       "    </tr>\n",
       "    <tr>\n",
       "      <th>8</th>\n",
       "      <td>44e608f2db00c74a1fe329de44416a4e</td>\n",
       "      <td>00053a61a98854899e70ed204dd4bafe</td>\n",
       "      <td>delivered</td>\n",
       "      <td>2024-07-28 16:30</td>\n",
       "      <td>2024-07-28 16:45</td>\n",
       "      <td>2024-08-16 19:02</td>\n",
       "      <td>2024-08-26</td>\n",
       "      <td>54</td>\n",
       "      <td>여성</td>\n",
       "      <td>핀란드</td>\n",
       "      <td>...</td>\n",
       "      <td>신선식품</td>\n",
       "      <td>82.62</td>\n",
       "      <td>-10.0</td>\n",
       "      <td>17.0</td>\n",
       "      <td>10</td>\n",
       "      <td>16475.92</td>\n",
       "      <td>2</td>\n",
       "      <td>y</td>\n",
       "      <td>50대</td>\n",
       "      <td>71926bbfce2a47bc</td>\n",
       "    </tr>\n",
       "    <tr>\n",
       "      <th>9</th>\n",
       "      <td>ae76bef74b97bcb0b3e355e60d9a6f9c</td>\n",
       "      <td>0005e1862207bf6ccc02e4228effd9a0</td>\n",
       "      <td>delivered</td>\n",
       "      <td>2023-08-04 16:18</td>\n",
       "      <td>2023-08-04 18:52</td>\n",
       "      <td>2023-08-09 8:33</td>\n",
       "      <td>2023-09-06</td>\n",
       "      <td>38</td>\n",
       "      <td>남성</td>\n",
       "      <td>덴마크</td>\n",
       "      <td>...</td>\n",
       "      <td>파티의류</td>\n",
       "      <td>32.43</td>\n",
       "      <td>-28.0</td>\n",
       "      <td>11.0</td>\n",
       "      <td>1</td>\n",
       "      <td>59244.70</td>\n",
       "      <td>3</td>\n",
       "      <td>y</td>\n",
       "      <td>30대</td>\n",
       "      <td>64629adebdc649d6</td>\n",
       "    </tr>\n",
       "  </tbody>\n",
       "</table>\n",
       "<p>10 rows × 25 columns</p>\n",
       "</div>"
      ],
      "text/plain": [
       "                           order_id                       customer_id  \\\n",
       "0  e22acc9c116caa3f2b7121bbb380d08e  0000366f3b9a7992bf8c76cfdf3221e2   \n",
       "1  3594e05a005ac4d06a72673270ef9ec9  0000b849f77a49e4a4ce2b2a4ca5be3f   \n",
       "2  b33ec3b699337181488304f362a6b734  0000f46a3911fa3c0805444483337064   \n",
       "3  41272756ecddd9a9ed0180413cc22fb6  0000f6ccb0745a6a4b88665a16c9f078   \n",
       "4  d957021f1127559cd947b62533f484f7  0004aac84e0df4da2b147fca70cf8255   \n",
       "5  3e470077b690ea3e3d501cffb5e0c499  0004bd2a26a76fe21f786e4fbd80607f   \n",
       "6  d0028facea13f508e880202d7097a5a1  00050ab1314c0e55a6ca13cf7181fecf   \n",
       "7  44e608f2db00c74a1fe329de44416a4e  00053a61a98854899e70ed204dd4bafe   \n",
       "8  44e608f2db00c74a1fe329de44416a4e  00053a61a98854899e70ed204dd4bafe   \n",
       "9  ae76bef74b97bcb0b3e355e60d9a6f9c  0005e1862207bf6ccc02e4228effd9a0   \n",
       "\n",
       "  order_status order_purchase_timestamp order_approved_at  \\\n",
       "0    delivered         2024-10-10 16:29  2024-10-10 19:21   \n",
       "1    delivered         2024-10-07 17:47  2024-10-07 19:14   \n",
       "2    delivered         2023-08-10 16:35  2023-08-10 19:29   \n",
       "3    delivered         2024-03-12 15:03  2024-03-12 17:00   \n",
       "4    delivered         2024-04-14 13:49  2024-04-14 15:41   \n",
       "5    delivered         2024-09-05 19:12  2024-09-05 21:23   \n",
       "6    delivered         2024-09-20 17:23  2024-09-20 18:21   \n",
       "7    delivered         2024-07-28 12:48  2024-07-28 15:15   \n",
       "8    delivered         2024-07-28 16:30  2024-07-28 16:45   \n",
       "9    delivered         2023-08-04 16:18  2023-08-04 18:52   \n",
       "\n",
       "  order_delivered_timestamp order_estimated_delivery_date  age gender country  \\\n",
       "0          2024-10-16 20:48                    2024-10-21   56     남성     핀란드   \n",
       "1          2024-10-10 18:02                    2024-10-15   61     여성      한국   \n",
       "2          2023-09-05 14:38                    2023-09-07   51     남성     필리핀   \n",
       "3          2024-04-01 21:23                    2024-04-13   34     여성     덴마크   \n",
       "4          2024-04-27 23:08                    2024-05-05   42     남성     벨기에   \n",
       "5          2024-09-07 16:12                    2024-09-19   60     남성      중국   \n",
       "6          2024-09-27 12:08                    2024-10-09   58     여성      일본   \n",
       "7          2024-08-16 19:02                    2024-08-26   54     여성     핀란드   \n",
       "8          2024-08-16 19:02                    2024-08-26   54     여성     핀란드   \n",
       "9           2023-08-09 8:33                    2023-09-06   38     남성     덴마크   \n",
       "\n",
       "   ... category2   price delivery_delay_days  approval_delay_minutes  \\\n",
       "0  ...      건강식품   62.17                -5.0                    15.0   \n",
       "1  ...      건강식품   57.90                -5.0                   434.0   \n",
       "2  ...      건강식품   60.34                -2.0                     0.0   \n",
       "3  ...      음향가전  128.17               -12.0                    20.0   \n",
       "4  ...      주방가전  110.15                -8.0                    21.0   \n",
       "5  ...        낚세   47.11               -12.0                    15.0   \n",
       "6  ...        캠핑   40.91               -12.0                  6654.0   \n",
       "7  ...        낚세   48.01               -10.0                    17.0   \n",
       "8  ...      신선식품   82.62               -10.0                    17.0   \n",
       "9  ...      파티의류   32.43               -28.0                    11.0   \n",
       "\n",
       "  weight_kg volume_cm3  review_score  marketing_info_agree  agegroup  \\\n",
       "0         5   11845.97             5                     y       50대   \n",
       "1         1   25981.89             4                     y       50대   \n",
       "2         0   26478.17             2                     n       50대   \n",
       "3        10  208064.64             4                     y       30대   \n",
       "4         5  185186.95             2                     y       40대   \n",
       "5         5  104803.74             3                     y       50대   \n",
       "6         5   79092.24             4                     y       50대   \n",
       "7         5   81180.21             2                     y       50대   \n",
       "8        10   16475.92             2                     y       50대   \n",
       "9         1   59244.70             3                     y       30대   \n",
       "\n",
       "         product_id  \n",
       "0  d2e1b02d25294e6f  \n",
       "1  d2e1b02d25294e6f  \n",
       "2  d2e1b02d25294e6f  \n",
       "3  f9614bb192ee4050  \n",
       "4  76a306b4cd254f91  \n",
       "5  08473b6a9bd24eec  \n",
       "6  4e3c726f56f94f5b  \n",
       "7  08473b6a9bd24eec  \n",
       "8  71926bbfce2a47bc  \n",
       "9  64629adebdc649d6  \n",
       "\n",
       "[10 rows x 25 columns]"
      ]
     },
     "execution_count": 3,
     "metadata": {},
     "output_type": "execute_result"
    }
   ],
   "source": [
    "df.head(10)"
   ]
  },
  {
   "cell_type": "code",
   "execution_count": 4,
   "id": "7f3ca0d0",
   "metadata": {},
   "outputs": [
    {
     "data": {
      "text/plain": [
       "array(['식품', '전자제품', '스포츠용품', '의류', '가구', '화장품'], dtype=object)"
      ]
     },
     "execution_count": 4,
     "metadata": {},
     "output_type": "execute_result"
    }
   ],
   "source": [
    "df['category1'].unique()"
   ]
  },
  {
   "cell_type": "markdown",
   "id": "c32d7654",
   "metadata": {},
   "source": [
    "### 카테고리1별로 고객 1인당 평균 주문 건수"
   ]
  },
  {
   "cell_type": "code",
   "execution_count": 34,
   "id": "4140b7b9",
   "metadata": {},
   "outputs": [
    {
     "data": {
      "application/vnd.microsoft.datawrangler.viewer.v0+json": {
       "columns": [
        {
         "name": "category1",
         "rawType": "object",
         "type": "string"
        },
        {
         "name": "order_id",
         "rawType": "float64",
         "type": "float"
        }
       ],
       "ref": "e2e3e0d0-abb7-42e5-b1db-08d39fa3c4a8",
       "rows": [
        [
         "가구",
         "1.04"
        ],
        [
         "스포츠용품",
         "1.05"
        ],
        [
         "식품",
         "1.05"
        ],
        [
         "의류",
         "1.05"
        ],
        [
         "전자제품",
         "1.04"
        ],
        [
         "화장품",
         "1.05"
        ]
       ],
       "shape": {
        "columns": 1,
        "rows": 6
       }
      },
      "text/plain": [
       "category1\n",
       "가구       1.04\n",
       "스포츠용품    1.05\n",
       "식품       1.05\n",
       "의류       1.05\n",
       "전자제품     1.04\n",
       "화장품      1.05\n",
       "Name: order_id, dtype: float64"
      ]
     },
     "execution_count": 34,
     "metadata": {},
     "output_type": "execute_result"
    }
   ],
   "source": [
    "order_per_user = df.groupby(['category1', 'customer_id'])['order_id'].count().reset_index()\n",
    "result = order_per_user.groupby('category1')['order_id'].mean().round(2)\n",
    "result"
   ]
  },
  {
   "cell_type": "markdown",
   "id": "c006c1e9",
   "metadata": {},
   "source": [
    "### 카테고리1 별 평균 재주문까지 걸린 일수"
   ]
  },
  {
   "cell_type": "code",
   "execution_count": null,
   "id": "d7764891",
   "metadata": {},
   "outputs": [
    {
     "name": "stdout",
     "output_type": "stream",
     "text": [
      "카테고리1별 재주문까지 걸린 평균 일수:\n",
      " category1\n",
      "스포츠용품    19.79\n",
      "화장품      18.61\n",
      "식품       18.06\n",
      "전자제품     17.27\n",
      "의류       16.61\n",
      "가구       12.92\n",
      "Name: reorder_gap, dtype: float64\n"
     ]
    }
   ],
   "source": [
    "df['order_purchase_timestamp'] = pd.to_datetime(df['order_purchase_timestamp']) # 날짜 타입변환\n",
    "df_sorted = df.sort_values(['customer_id', 'category1', 'order_purchase_timestamp']) # 고객아이디, 카테고리1, 구매요청시간 오름차순\n",
    "df_sorted['reorder_gap'] = df_sorted.groupby(['customer_id', 'category1'])['order_purchase_timestamp'].diff().dt.days # 리오더 컬럼 생성후 고객아이디와 카테고리1을 그룹바이후 구매요청시간을 뺌\n",
    "mean_gap = df_sorted.groupby('category1')['reorder_gap'].mean().round(2) #카테고리1, 리오더 그룹바이 후 평균 후 소수점 2까지\n",
    "mean_gap = mean_gap.sort_values(ascending=False) # 내림차순\n",
    "print(\"카테고리1별 재주문까지 걸린 평균 일수:\\n\", mean_gap)"
   ]
  },
  {
   "cell_type": "code",
   "execution_count": 8,
   "id": "5ef97714",
   "metadata": {},
   "outputs": [
    {
     "data": {
      "text/plain": [
       "array(['건강식품', '음향가전', '주방가전', '낚세', '캠핑', '신선식품', '파티의류', '가공식품',\n",
       "       '책상/책장', '침대', '바디케어', '거실장/테이블', '건강가전', '유아의류', '비데', '스킨케어',\n",
       "       '스포츠의류', '여성의류', '등산', '네일케어', '골프', '남성의류', '메이크업', '마스크/팩',\n",
       "       '선케어', '세탁기/건조기', '청소기', '옷장/행거', '남성화장품', '헤어케어', '수납장/선반', '화장대',\n",
       "       '냉장고', '1인가구', '향수', '쇼파', '야외가구'], dtype=object)"
      ]
     },
     "execution_count": 8,
     "metadata": {},
     "output_type": "execute_result"
    }
   ],
   "source": [
    "df['category2'].unique()"
   ]
  },
  {
   "cell_type": "code",
   "execution_count": null,
   "id": "2b6fc6c3",
   "metadata": {},
   "outputs": [
    {
     "data": {
      "application/vnd.microsoft.datawrangler.viewer.v0+json": {
       "columns": [
        {
         "name": "category2",
         "rawType": "object",
         "type": "string"
        },
        {
         "name": "order_id",
         "rawType": "float64",
         "type": "float"
        }
       ],
       "ref": "5458dee1-30e2-4213-a8c6-099f67ec6a33",
       "rows": [
        [
         "메이크업",
         "1.03"
        ],
        [
         "스킨케어",
         "1.03"
        ],
        [
         "건강식품",
         "1.02"
        ],
        [
         "신선식품",
         "1.02"
        ],
        [
         "가공식품",
         "1.02"
        ],
        [
         "파티의류",
         "1.01"
        ],
        [
         "여성의류",
         "1.01"
        ],
        [
         "주방가전",
         "1.01"
        ],
        [
         "스포츠의류",
         "1.01"
        ],
        [
         "비데",
         "1.01"
        ],
        [
         "캠핑",
         "1.01"
        ],
        [
         "유아의류",
         "1.01"
        ],
        [
         "음향가전",
         "1.01"
        ],
        [
         "등산",
         "1.01"
        ],
        [
         "향수",
         "1.01"
        ],
        [
         "냉장고",
         "1.01"
        ],
        [
         "남성화장품",
         "1.01"
        ],
        [
         "남성의류",
         "1.01"
        ],
        [
         "낚세",
         "1.01"
        ],
        [
         "골프",
         "1.01"
        ],
        [
         "건강가전",
         "1.01"
        ],
        [
         "헤어케어",
         "1.01"
        ],
        [
         "침대",
         "1.0"
        ],
        [
         "청소기",
         "1.0"
        ],
        [
         "책상/책장",
         "1.0"
        ],
        [
         "1인가구",
         "1.0"
        ],
        [
         "쇼파",
         "1.0"
        ],
        [
         "옷장/행거",
         "1.0"
        ],
        [
         "야외가구",
         "1.0"
        ],
        [
         "수납장/선반",
         "1.0"
        ],
        [
         "세탁기/건조기",
         "1.0"
        ],
        [
         "선케어",
         "1.0"
        ],
        [
         "바디케어",
         "1.0"
        ],
        [
         "마스크/팩",
         "1.0"
        ],
        [
         "네일케어",
         "1.0"
        ],
        [
         "거실장/테이블",
         "1.0"
        ],
        [
         "화장대",
         "1.0"
        ]
       ],
       "shape": {
        "columns": 1,
        "rows": 37
       }
      },
      "text/plain": [
       "category2\n",
       "메이크업       1.03\n",
       "스킨케어       1.03\n",
       "건강식품       1.02\n",
       "신선식품       1.02\n",
       "가공식품       1.02\n",
       "파티의류       1.01\n",
       "여성의류       1.01\n",
       "주방가전       1.01\n",
       "스포츠의류      1.01\n",
       "비데         1.01\n",
       "캠핑         1.01\n",
       "유아의류       1.01\n",
       "음향가전       1.01\n",
       "등산         1.01\n",
       "향수         1.01\n",
       "냉장고        1.01\n",
       "남성화장품      1.01\n",
       "남성의류       1.01\n",
       "낚세         1.01\n",
       "골프         1.01\n",
       "건강가전       1.01\n",
       "헤어케어       1.01\n",
       "침대         1.00\n",
       "청소기        1.00\n",
       "책상/책장      1.00\n",
       "1인가구       1.00\n",
       "쇼파         1.00\n",
       "옷장/행거      1.00\n",
       "야외가구       1.00\n",
       "수납장/선반     1.00\n",
       "세탁기/건조기    1.00\n",
       "선케어        1.00\n",
       "바디케어       1.00\n",
       "마스크/팩      1.00\n",
       "네일케어       1.00\n",
       "거실장/테이블    1.00\n",
       "화장대        1.00\n",
       "Name: order_id, dtype: float64"
      ]
     },
     "execution_count": 31,
     "metadata": {},
     "output_type": "execute_result"
    }
   ],
   "source": [
    "order_per_user2 = df.groupby(['category2', 'customer_id'])['order_id'].count().reset_index()\n",
    "result2 = order_per_user2.groupby('category2')['order_id'].mean().round(2) # 카테고리2를 오더아이디로 그룹바이후 평균 및 소수점 2까지\n",
    "result2 = result2.sort_values(ascending=False) # 결과를 내림차순\n",
    "result2"
   ]
  },
  {
   "cell_type": "markdown",
   "id": "e01a91e7",
   "metadata": {},
   "source": [
    "### 카테고리2 별로 재주문까지 걸린 일수"
   ]
  },
  {
   "cell_type": "code",
   "execution_count": null,
   "id": "4393b7d5",
   "metadata": {},
   "outputs": [
    {
     "data": {
      "application/vnd.microsoft.datawrangler.viewer.v0+json": {
       "columns": [
        {
         "name": "category2",
         "rawType": "object",
         "type": "string"
        },
        {
         "name": "reorder_gap",
         "rawType": "float64",
         "type": "float"
        }
       ],
       "ref": "1f002550-2ff1-43f4-aaa0-cdec0e27390f",
       "rows": [
        [
         "헤어케어",
         "75.5"
        ],
        [
         "세탁기/건조기",
         "42.69"
        ],
        [
         "등산",
         "36.1"
        ],
        [
         "건강가전",
         "35.87"
        ],
        [
         "유아의류",
         "32.34"
        ],
        [
         "향수",
         "30.29"
        ],
        [
         "선케어",
         "28.2"
        ],
        [
         "화장대",
         "24.0"
        ],
        [
         "신선식품",
         "21.16"
        ],
        [
         "여성의류",
         "17.85"
        ],
        [
         "메이크업",
         "17.11"
        ],
        [
         "캠핑",
         "16.95"
        ],
        [
         "가공식품",
         "14.03"
        ],
        [
         "침대",
         "14.0"
        ],
        [
         "낚세",
         "13.63"
        ],
        [
         "청소기",
         "13.38"
        ],
        [
         "건강식품",
         "13.16"
        ],
        [
         "파티의류",
         "11.06"
        ],
        [
         "골프",
         "9.96"
        ],
        [
         "스킨케어",
         "9.02"
        ],
        [
         "주방가전",
         "8.93"
        ],
        [
         "남성의류",
         "8.53"
        ],
        [
         "스포츠의류",
         "8.0"
        ],
        [
         "음향가전",
         "7.71"
        ],
        [
         "마스크/팩",
         "5.5"
        ],
        [
         "남성화장품",
         "5.43"
        ],
        [
         "비데",
         "2.38"
        ],
        [
         "냉장고",
         "1.47"
        ],
        [
         "1인가구",
         "0.0"
        ],
        [
         "책상/책장",
         "0.0"
        ],
        [
         "옷장/행거",
         "0.0"
        ],
        [
         "야외가구",
         "0.0"
        ],
        [
         "바디케어",
         "0.0"
        ],
        [
         "네일케어",
         "0.0"
        ],
        [
         "쇼파",
         "0.0"
        ],
        [
         "거실장/테이블",
         null
        ],
        [
         "수납장/선반",
         null
        ]
       ],
       "shape": {
        "columns": 1,
        "rows": 37
       }
      },
      "text/plain": [
       "category2\n",
       "헤어케어       75.50\n",
       "세탁기/건조기    42.69\n",
       "등산         36.10\n",
       "건강가전       35.87\n",
       "유아의류       32.34\n",
       "향수         30.29\n",
       "선케어        28.20\n",
       "화장대        24.00\n",
       "신선식품       21.16\n",
       "여성의류       17.85\n",
       "메이크업       17.11\n",
       "캠핑         16.95\n",
       "가공식품       14.03\n",
       "침대         14.00\n",
       "낚세         13.63\n",
       "청소기        13.38\n",
       "건강식품       13.16\n",
       "파티의류       11.06\n",
       "골프          9.96\n",
       "스킨케어        9.02\n",
       "주방가전        8.93\n",
       "남성의류        8.53\n",
       "스포츠의류       8.00\n",
       "음향가전        7.71\n",
       "마스크/팩       5.50\n",
       "남성화장품       5.43\n",
       "비데          2.38\n",
       "냉장고         1.47\n",
       "1인가구        0.00\n",
       "책상/책장       0.00\n",
       "옷장/행거       0.00\n",
       "야외가구        0.00\n",
       "바디케어        0.00\n",
       "네일케어        0.00\n",
       "쇼파          0.00\n",
       "거실장/테이블      NaN\n",
       "수납장/선반       NaN\n",
       "Name: reorder_gap, dtype: float64"
      ]
     },
     "execution_count": 10,
     "metadata": {},
     "output_type": "execute_result"
    }
   ],
   "source": [
    "df['order_purchase_timestamp'] = pd.to_datetime(df['order_purchase_timestamp']) # datetime으로 변환\n",
    "df_sorted = df.sort_values(['customer_id', 'category2', 'order_purchase_timestamp']) # 오름차순으로 \n",
    "df_sorted['reorder_gap'] = df_sorted.groupby(['customer_id', 'category2'])['order_purchase_timestamp'].diff().dt.days # 날짜 차이 구함\n",
    "mean_gap_2 = df_sorted.groupby('category2')['reorder_gap'].mean().round(2) # 카테고리2를 리오더갭으로 그룹바이 후 평균.소수점 2까지\n",
    "mean_gap_2  = mean_gap_2.sort_values(ascending=False) # 결과를 내림차순\n",
    "mean_gap_2"
   ]
  },
  {
   "cell_type": "markdown",
   "id": "fb3fc719",
   "metadata": {},
   "source": [
    "### 해석:\n",
    "nan = 재구매를 안함\n",
    "0 = 재구매는 했지만 왜인지는 모르겠으나 첫구와 재구매가 같은날 발생, 따라서 구매일 차이가 없음으로 0으로 표시됨"
   ]
  },
  {
   "cell_type": "code",
   "execution_count": null,
   "id": "13fdef7b",
   "metadata": {},
   "outputs": [
    {
     "name": "stdout",
     "output_type": "stream",
     "text": [
      "    category2 category1\n",
      "0        건강식품        식품\n",
      "3        음향가전      전자제품\n",
      "4        주방가전      전자제품\n",
      "5          낚세     스포츠용품\n",
      "6          캠핑     스포츠용품\n",
      "8        신선식품        식품\n",
      "9        파티의류        의류\n",
      "11       가공식품        식품\n",
      "12      책상/책장        가구\n",
      "13         침대        가구\n",
      "14       바디케어       화장품\n",
      "19    거실장/테이블        가구\n",
      "20       건강가전      전자제품\n",
      "24       유아의류        의류\n",
      "25         비데      전자제품\n",
      "27       스킨케어       화장품\n",
      "28      스포츠의류        의류\n",
      "30       여성의류        의류\n",
      "32         등산     스포츠용품\n",
      "37       네일케어       화장품\n",
      "38         골프     스포츠용품\n",
      "41       남성의류        의류\n",
      "44       메이크업       화장품\n",
      "45      마스크/팩       화장품\n",
      "54        선케어       화장품\n",
      "62    세탁기/건조기      전자제품\n",
      "63        청소기      전자제품\n",
      "78      옷장/행거        가구\n",
      "89      남성화장품       화장품\n",
      "102      헤어케어       화장품\n",
      "109    수납장/선반        가구\n",
      "127       화장대        가구\n",
      "166       냉장고      전자제품\n",
      "189      1인가구        가구\n",
      "219        향수       화장품\n",
      "274        쇼파        가구\n",
      "295      야외가구        가구\n"
     ]
    }
   ],
   "source": [
    "# category2의 각 값이 category1의 어떤 값에 속하는지 유니크하게 추출\n",
    "mapping = df[['category2', 'category1']].drop_duplicates() # drop_duplicates()를 사용해서 중복 없이 매핑\n",
    "print(mapping)"
   ]
  },
  {
   "cell_type": "markdown",
   "id": "ced409a6",
   "metadata": {},
   "source": [
    "### 가장 오래전에 주문한 사람"
   ]
  },
  {
   "cell_type": "code",
   "execution_count": 11,
   "id": "4e12881d",
   "metadata": {},
   "outputs": [],
   "source": [
    "df['order_purchase_timestamp'] = pd.to_datetime(df['order_purchase_timestamp'])"
   ]
  },
  {
   "cell_type": "code",
   "execution_count": 12,
   "id": "92ecdc46",
   "metadata": {},
   "outputs": [],
   "source": [
    "oldest_order = df.loc[df['order_purchase_timestamp'].idxmin()]"
   ]
  },
  {
   "cell_type": "code",
   "execution_count": 13,
   "id": "e58f9573",
   "metadata": {},
   "outputs": [],
   "source": [
    "df_sorted = df.sort_values(by='order_purchase_timestamp', ascending=True)"
   ]
  },
  {
   "cell_type": "code",
   "execution_count": 14,
   "id": "72d84073",
   "metadata": {},
   "outputs": [
    {
     "data": {
      "application/vnd.microsoft.datawrangler.viewer.v0+json": {
       "columns": [
        {
         "name": "index",
         "rawType": "int64",
         "type": "integer"
        },
        {
         "name": "customer_id",
         "rawType": "object",
         "type": "string"
        },
        {
         "name": "order_purchase_timestamp",
         "rawType": "datetime64[ns]",
         "type": "datetime"
        }
       ],
       "ref": "aa1367c8-2b84-4e32-8bef-e1d1d311372c",
       "rows": [
        [
         "75400",
         "b7d76e111c89f7ebf14761390f0f7d17",
         "2023-02-04 09:05:00"
        ],
        [
         "75399",
         "b7d76e111c89f7ebf14761390f0f7d17",
         "2023-02-04 18:35:00"
        ],
        [
         "29616",
         "4854e9b3feff728c13ee5fc7d1547e92",
         "2023-02-05 19:39:00"
        ],
        [
         "5996",
         "0eb1ee9dba87f5b36b4613a65074337c",
         "2023-03-02 15:58:00"
        ],
        [
         "6952",
         "10e89fd8e5c745f81bec101207ba4d7d",
         "2023-03-03 06:15:00"
        ],
        [
         "40151",
         "61db744d2f835035a5625b59350c6b63",
         "2023-03-03 12:58:00"
        ],
        [
         "55485",
         "87776adb449c551e74c13fc34f036105",
         "2023-03-03 15:43:00"
        ],
        [
         "75787",
         "b8b8726af116a5cfb35b0315ecef9172",
         "2023-03-03 16:08:00"
        ],
        [
         "20850",
         "32ea3bdedab835c3aa6cb68ce66565ef",
         "2023-03-03 18:26:00"
        ],
        [
         "19425",
         "2f64e403852e6893ae37485d5fcacdaf",
         "2023-03-03 18:44:00"
        ],
        [
         "57720",
         "8d3a54507421dbd2ce0a1d58046826e0",
         "2023-03-03 20:31:00"
        ],
        [
         "47401",
         "7390ed59fa1febbfda31a80b4318c8cb",
         "2023-03-03 20:55:00"
        ],
        [
         "82348",
         "c8befcc96d8aeb7181c618aa56d9d624",
         "2023-03-04 01:07:00"
        ],
        [
         "83306",
         "cb1bc069e25d9c59773c85a2e2a46713",
         "2023-03-04 02:05:00"
        ],
        [
         "12275",
         "1dc848c11c2985635c268ff3dea707eb",
         "2023-03-04 02:26:00"
        ],
        [
         "28576",
         "45d9410bc1f3c6e36dea41d8f823ada6",
         "2023-03-04 02:53:00"
        ],
        [
         "13970",
         "221234182f828fb9f2a4ba9c89874ede",
         "2023-03-04 04:10:00"
        ],
        [
         "4679",
         "0b3dc7efaafb0cf78a4796d42fa8d74c",
         "2023-03-04 04:47:00"
        ],
        [
         "7114",
         "1151be76113653dc4ed5d7e7fd17763a",
         "2023-03-04 04:54:00"
        ],
        [
         "88207",
         "d7046ea561b819649385d6d524166f04",
         "2023-03-04 05:13:00"
        ],
        [
         "91586",
         "df2988ba3ed226b10521a0e4da849b61",
         "2023-03-04 05:44:00"
        ],
        [
         "16545",
         "28706b8dc0fe2a95fbcec1e53253d8e4",
         "2023-03-04 06:22:00"
        ],
        [
         "71930",
         "af46f006f8c0e0d06975480af3805422",
         "2023-03-04 06:36:00"
        ],
        [
         "13973",
         "221234182f828fb9f2a4ba9c89874ede",
         "2023-03-04 06:44:00"
        ],
        [
         "93368",
         "e37af39d93f352f64ede45a151161d0c",
         "2023-03-04 07:14:00"
        ],
        [
         "17966",
         "2bf93b9956e26356b52f5d426c7801de",
         "2023-03-04 07:16:00"
        ],
        [
         "57711",
         "8d36e7e56a9f8044df728e9cbf5a3eaf",
         "2023-03-04 07:29:00"
        ],
        [
         "80046",
         "c31f4549e788bd1e0afbd0cc8d64c671",
         "2023-03-04 08:38:00"
        ],
        [
         "8307",
         "14359ea0c7a105749c0a56478825b015",
         "2023-03-04 08:41:00"
        ],
        [
         "58024",
         "8de8484141a728d73763be267b73cda2",
         "2023-03-04 09:00:00"
        ],
        [
         "3377",
         "0829f7df6577d5a4b65439bea701405f",
         "2023-03-04 09:05:00"
        ],
        [
         "10988",
         "1ab766d3d553649d7d8c7e2bb60f5c9d",
         "2023-03-04 09:07:00"
        ],
        [
         "71929",
         "af46f006f8c0e0d06975480af3805422",
         "2023-03-04 11:29:00"
        ],
        [
         "88464",
         "d7afcd4b6f0d645a8efa24bef0b66ca0",
         "2023-03-04 12:12:00"
        ],
        [
         "39207",
         "5f7e36fb1d42d0b1c408b5b41bc52bb3",
         "2023-03-04 12:27:00"
        ],
        [
         "13972",
         "221234182f828fb9f2a4ba9c89874ede",
         "2023-03-04 12:37:00"
        ],
        [
         "55996",
         "88bc832f104b6dd684a17dbb1b76e778",
         "2023-03-04 13:37:00"
        ],
        [
         "65268",
         "9f302d00dd3e18ed3745778184b4f0fe",
         "2023-03-04 14:04:00"
        ],
        [
         "19008",
         "2e629c69eaa172cb271dcf7f890f921a",
         "2023-03-04 14:23:00"
        ],
        [
         "45226",
         "6e4c8eed6842146f77d917f7b437b4c2",
         "2023-03-04 14:30:00"
        ],
        [
         "50851",
         "7bf845014243c08bdcea071d6981303e",
         "2023-03-04 14:59:00"
        ],
        [
         "97916",
         "eeb1b66fee35b3f1e3dfc27ff80fc0a2",
         "2023-03-04 15:04:00"
        ],
        [
         "84224",
         "cd5a5843d35eebdf90368bf24d4a04cf",
         "2023-03-04 15:11:00"
        ],
        [
         "87635",
         "d58063e0329c70d19363e6225ca43128",
         "2023-03-04 15:13:00"
        ],
        [
         "4492",
         "0acb54b64345b37d81205175f3f3e779",
         "2023-03-04 15:32:00"
        ],
        [
         "18880",
         "2e15add79c76241beffe812a24ad3a31",
         "2023-03-04 15:37:00"
        ],
        [
         "20203",
         "31463a6b3a01f53c3ef1a04a849decf4",
         "2023-03-04 15:55:00"
        ],
        [
         "51916",
         "7e6f4c38a581cced287444d779368aed",
         "2023-03-04 15:59:00"
        ],
        [
         "22528",
         "36f1caf9bdbb0f6201dfdc27a08c6338",
         "2023-03-04 16:02:00"
        ],
        [
         "22733",
         "37751f6b47c9a1dc55fffde08f0183fc",
         "2023-03-04 16:06:00"
        ]
       ],
       "shape": {
        "columns": 2,
        "rows": 104899
       }
      },
      "text/html": [
       "<div>\n",
       "<style scoped>\n",
       "    .dataframe tbody tr th:only-of-type {\n",
       "        vertical-align: middle;\n",
       "    }\n",
       "\n",
       "    .dataframe tbody tr th {\n",
       "        vertical-align: top;\n",
       "    }\n",
       "\n",
       "    .dataframe thead th {\n",
       "        text-align: right;\n",
       "    }\n",
       "</style>\n",
       "<table border=\"1\" class=\"dataframe\">\n",
       "  <thead>\n",
       "    <tr style=\"text-align: right;\">\n",
       "      <th></th>\n",
       "      <th>customer_id</th>\n",
       "      <th>order_purchase_timestamp</th>\n",
       "    </tr>\n",
       "  </thead>\n",
       "  <tbody>\n",
       "    <tr>\n",
       "      <th>75400</th>\n",
       "      <td>b7d76e111c89f7ebf14761390f0f7d17</td>\n",
       "      <td>2023-02-04 09:05:00</td>\n",
       "    </tr>\n",
       "    <tr>\n",
       "      <th>75399</th>\n",
       "      <td>b7d76e111c89f7ebf14761390f0f7d17</td>\n",
       "      <td>2023-02-04 18:35:00</td>\n",
       "    </tr>\n",
       "    <tr>\n",
       "      <th>29616</th>\n",
       "      <td>4854e9b3feff728c13ee5fc7d1547e92</td>\n",
       "      <td>2023-02-05 19:39:00</td>\n",
       "    </tr>\n",
       "    <tr>\n",
       "      <th>5996</th>\n",
       "      <td>0eb1ee9dba87f5b36b4613a65074337c</td>\n",
       "      <td>2023-03-02 15:58:00</td>\n",
       "    </tr>\n",
       "    <tr>\n",
       "      <th>6952</th>\n",
       "      <td>10e89fd8e5c745f81bec101207ba4d7d</td>\n",
       "      <td>2023-03-03 06:15:00</td>\n",
       "    </tr>\n",
       "    <tr>\n",
       "      <th>...</th>\n",
       "      <td>...</td>\n",
       "      <td>...</td>\n",
       "    </tr>\n",
       "    <tr>\n",
       "      <th>13892</th>\n",
       "      <td>21dbe8eabd00b34492a939c540e2b1a7</td>\n",
       "      <td>2025-01-29 15:35:00</td>\n",
       "    </tr>\n",
       "    <tr>\n",
       "      <th>15024</th>\n",
       "      <td>24ac2b4327e25baf39f2119e4228976a</td>\n",
       "      <td>2025-01-29 18:22:00</td>\n",
       "    </tr>\n",
       "    <tr>\n",
       "      <th>74222</th>\n",
       "      <td>b4dcade04bc548b7e3b0243c801f8c26</td>\n",
       "      <td>2025-01-29 19:31:00</td>\n",
       "    </tr>\n",
       "    <tr>\n",
       "      <th>1693</th>\n",
       "      <td>0421e7a23f21e5d54efed456aedbc513</td>\n",
       "      <td>2025-01-29 21:38:00</td>\n",
       "    </tr>\n",
       "    <tr>\n",
       "      <th>104536</th>\n",
       "      <td>ff22e30958c13ffe219db7d711e8f564</td>\n",
       "      <td>2025-02-03 11:34:00</td>\n",
       "    </tr>\n",
       "  </tbody>\n",
       "</table>\n",
       "<p>104899 rows × 2 columns</p>\n",
       "</div>"
      ],
      "text/plain": [
       "                             customer_id order_purchase_timestamp\n",
       "75400   b7d76e111c89f7ebf14761390f0f7d17      2023-02-04 09:05:00\n",
       "75399   b7d76e111c89f7ebf14761390f0f7d17      2023-02-04 18:35:00\n",
       "29616   4854e9b3feff728c13ee5fc7d1547e92      2023-02-05 19:39:00\n",
       "5996    0eb1ee9dba87f5b36b4613a65074337c      2023-03-02 15:58:00\n",
       "6952    10e89fd8e5c745f81bec101207ba4d7d      2023-03-03 06:15:00\n",
       "...                                  ...                      ...\n",
       "13892   21dbe8eabd00b34492a939c540e2b1a7      2025-01-29 15:35:00\n",
       "15024   24ac2b4327e25baf39f2119e4228976a      2025-01-29 18:22:00\n",
       "74222   b4dcade04bc548b7e3b0243c801f8c26      2025-01-29 19:31:00\n",
       "1693    0421e7a23f21e5d54efed456aedbc513      2025-01-29 21:38:00\n",
       "104536  ff22e30958c13ffe219db7d711e8f564      2025-02-03 11:34:00\n",
       "\n",
       "[104899 rows x 2 columns]"
      ]
     },
     "execution_count": 14,
     "metadata": {},
     "output_type": "execute_result"
    }
   ],
   "source": [
    "df_sorted[['customer_id', 'order_purchase_timestamp']]"
   ]
  },
  {
   "cell_type": "markdown",
   "id": "8b49c845",
   "metadata": {},
   "source": [
    "### 주문량이 많은 순서"
   ]
  },
  {
   "cell_type": "code",
   "execution_count": 15,
   "id": "d3c3efa6",
   "metadata": {},
   "outputs": [],
   "source": [
    "order_count = df['customer_id'].value_counts().reset_index()\n",
    "order_count.columns = ['customer_id', 'order_count']"
   ]
  },
  {
   "cell_type": "code",
   "execution_count": 16,
   "id": "d65d4f96",
   "metadata": {},
   "outputs": [
    {
     "data": {
      "application/vnd.microsoft.datawrangler.viewer.v0+json": {
       "columns": [
        {
         "name": "index",
         "rawType": "int64",
         "type": "integer"
        },
        {
         "name": "customer_id",
         "rawType": "object",
         "type": "string"
        },
        {
         "name": "order_count",
         "rawType": "int64",
         "type": "integer"
        }
       ],
       "ref": "87aacb91-588a-4e7a-9d7c-fa37d117a978",
       "rows": [
        [
         "0",
         "8d50f5eadf50201ccdcedfb9e2ac8455",
         "16"
        ],
        [
         "1",
         "3e43e6105506432c953e165fb2acf44c",
         "13"
        ],
        [
         "2",
         "41a3b256cc497dc952a815b848345cbc",
         "12"
        ],
        [
         "3",
         "1b6c7548a2a1f9037c1fd3ddfed95f33",
         "10"
        ],
        [
         "4",
         "ca77025e7201e3b30c44b472ff346268",
         "9"
        ],
        [
         "5",
         "c8ed31310fc440a3f8031b177f9842c3",
         "8"
        ],
        [
         "6",
         "ed917c786a8a3e411eae87aeca27cb27",
         "8"
        ],
        [
         "7",
         "6469f99c1f9dfae7733b25662e7f1782",
         "8"
        ],
        [
         "8",
         "788a2f679187362222b67dfe89da6c1a",
         "8"
        ],
        [
         "9",
         "a7657330b1c135f3acd420326e335b2c",
         "8"
        ],
        [
         "10",
         "b09f1bff1aff13c997af071602bc048b",
         "7"
        ],
        [
         "11",
         "397b44d5bb99eabf54ea9c2b41ebb905",
         "7"
        ],
        [
         "12",
         "33de26d1fafbfd4945eb586f7136efe6",
         "7"
        ],
        [
         "13",
         "738ffcf1017b584e9d2684b36e07469c",
         "7"
        ],
        [
         "14",
         "72061fff095d8325b311ea24e2f4a2b5",
         "7"
        ],
        [
         "15",
         "d97b3cfb22b0d6b25ac9ed4e9c2d481b",
         "7"
        ],
        [
         "16",
         "a40096fc0a3862e9e12bc55b5f8e6ab2",
         "7"
        ],
        [
         "17",
         "47c1a3033b8b77b3ab6e109eb4d5fdf3",
         "7"
        ],
        [
         "18",
         "595e38fad1949e25468ad1c7c06924d0",
         "7"
        ],
        [
         "19",
         "bf869f6a89c8ba217f47e22359f884f2",
         "7"
        ],
        [
         "20",
         "12f5d6e1cbf93dafd9dcc19095df0b3d",
         "6"
        ],
        [
         "21",
         "310647380793836bfa5b7b6b3f518423",
         "6"
        ],
        [
         "22",
         "63cfc61cee11cbe306bff5857d00bfe4",
         "6"
        ],
        [
         "23",
         "56dfd0cb7bce1329fe8f4766746f0078",
         "6"
        ],
        [
         "24",
         "83c6462cf9b51c26d6102ac0c48a1100",
         "6"
        ],
        [
         "25",
         "f50ca6544a0ed8a52cc964e15cbe9cf9",
         "6"
        ],
        [
         "26",
         "fe86d9409d83a3c561ce16e64d2d55e6",
         "6"
        ],
        [
         "27",
         "12d8b5ed661190a3a08183644dfc504d",
         "6"
        ],
        [
         "28",
         "acea6bd29b8c1e3c6a8b266a8fb4475e",
         "6"
        ],
        [
         "29",
         "a029899dd8534557a81c369475ff80c8",
         "6"
        ],
        [
         "30",
         "e98d5b3dfce0883464eee2c280377d63",
         "6"
        ],
        [
         "31",
         "1dedbe50138a3540d30fe355776d2d6a",
         "6"
        ],
        [
         "32",
         "dc813062e0fc23409cd255f7f53c7074",
         "6"
        ],
        [
         "33",
         "7f4f709af2fd8fea44aacd30bca46264",
         "6"
        ],
        [
         "34",
         "45a529e4af8f502a189094332e8ed24e",
         "6"
        ],
        [
         "35",
         "19f8fcd23ed70e29220a6a2f13ecd911",
         "6"
        ],
        [
         "36",
         "85f759383b36fc0ce9844aecac8b8117",
         "6"
        ],
        [
         "37",
         "8dc697d03f771cecc2534534a73eaaf9",
         "6"
        ],
        [
         "38",
         "d73238dc01a257f5439f611e3cdb199c",
         "6"
        ],
        [
         "39",
         "88ef3169f5d6ac822eeb2cda922c7ff8",
         "6"
        ],
        [
         "40",
         "e079b18794454de9d2be5c12b4392294",
         "6"
        ],
        [
         "41",
         "0209f290b5451d357308bc0e90521026",
         "6"
        ],
        [
         "42",
         "35ecdf6858edc6427223b64804cf028e",
         "6"
        ],
        [
         "43",
         "a914b2be4782207abc6758095ec9e8aa",
         "6"
        ],
        [
         "44",
         "f0e310a6839dce9de1638e0fe5ab282a",
         "6"
        ],
        [
         "45",
         "394ac4de8f3acb14253c177f0e15bc58",
         "6"
        ],
        [
         "46",
         "83eaf03b228046b51c0e4651b24475db",
         "6"
        ],
        [
         "47",
         "066ee6b9c6fc284260ff9a1274a82ca7",
         "6"
        ],
        [
         "48",
         "be160ff1d833563ea876b3662de0a653",
         "6"
        ],
        [
         "49",
         "5036f4227f2e546879f581d8fd3e6ec6",
         "6"
        ]
       ],
       "shape": {
        "columns": 2,
        "rows": 95419
       }
      },
      "text/html": [
       "<div>\n",
       "<style scoped>\n",
       "    .dataframe tbody tr th:only-of-type {\n",
       "        vertical-align: middle;\n",
       "    }\n",
       "\n",
       "    .dataframe tbody tr th {\n",
       "        vertical-align: top;\n",
       "    }\n",
       "\n",
       "    .dataframe thead th {\n",
       "        text-align: right;\n",
       "    }\n",
       "</style>\n",
       "<table border=\"1\" class=\"dataframe\">\n",
       "  <thead>\n",
       "    <tr style=\"text-align: right;\">\n",
       "      <th></th>\n",
       "      <th>customer_id</th>\n",
       "      <th>order_count</th>\n",
       "    </tr>\n",
       "  </thead>\n",
       "  <tbody>\n",
       "    <tr>\n",
       "      <th>0</th>\n",
       "      <td>8d50f5eadf50201ccdcedfb9e2ac8455</td>\n",
       "      <td>16</td>\n",
       "    </tr>\n",
       "    <tr>\n",
       "      <th>1</th>\n",
       "      <td>3e43e6105506432c953e165fb2acf44c</td>\n",
       "      <td>13</td>\n",
       "    </tr>\n",
       "    <tr>\n",
       "      <th>2</th>\n",
       "      <td>41a3b256cc497dc952a815b848345cbc</td>\n",
       "      <td>12</td>\n",
       "    </tr>\n",
       "    <tr>\n",
       "      <th>3</th>\n",
       "      <td>1b6c7548a2a1f9037c1fd3ddfed95f33</td>\n",
       "      <td>10</td>\n",
       "    </tr>\n",
       "    <tr>\n",
       "      <th>4</th>\n",
       "      <td>ca77025e7201e3b30c44b472ff346268</td>\n",
       "      <td>9</td>\n",
       "    </tr>\n",
       "    <tr>\n",
       "      <th>...</th>\n",
       "      <td>...</td>\n",
       "      <td>...</td>\n",
       "    </tr>\n",
       "    <tr>\n",
       "      <th>95414</th>\n",
       "      <td>58830e73978eab27a86d804befbfa3a7</td>\n",
       "      <td>1</td>\n",
       "    </tr>\n",
       "    <tr>\n",
       "      <th>95415</th>\n",
       "      <td>5882e10ed75dbb86ed6b62bddb146e5e</td>\n",
       "      <td>1</td>\n",
       "    </tr>\n",
       "    <tr>\n",
       "      <th>95416</th>\n",
       "      <td>5880e398144a5fc8dbcd185521e3f6bc</td>\n",
       "      <td>1</td>\n",
       "    </tr>\n",
       "    <tr>\n",
       "      <th>95417</th>\n",
       "      <td>58808b1eb6a9ebd14974101c600e6f8f</td>\n",
       "      <td>1</td>\n",
       "    </tr>\n",
       "    <tr>\n",
       "      <th>95418</th>\n",
       "      <td>ffffd2657e2aad2907e67c3e9daecbeb</td>\n",
       "      <td>1</td>\n",
       "    </tr>\n",
       "  </tbody>\n",
       "</table>\n",
       "<p>95419 rows × 2 columns</p>\n",
       "</div>"
      ],
      "text/plain": [
       "                            customer_id  order_count\n",
       "0      8d50f5eadf50201ccdcedfb9e2ac8455           16\n",
       "1      3e43e6105506432c953e165fb2acf44c           13\n",
       "2      41a3b256cc497dc952a815b848345cbc           12\n",
       "3      1b6c7548a2a1f9037c1fd3ddfed95f33           10\n",
       "4      ca77025e7201e3b30c44b472ff346268            9\n",
       "...                                 ...          ...\n",
       "95414  58830e73978eab27a86d804befbfa3a7            1\n",
       "95415  5882e10ed75dbb86ed6b62bddb146e5e            1\n",
       "95416  5880e398144a5fc8dbcd185521e3f6bc            1\n",
       "95417  58808b1eb6a9ebd14974101c600e6f8f            1\n",
       "95418  ffffd2657e2aad2907e67c3e9daecbeb            1\n",
       "\n",
       "[95419 rows x 2 columns]"
      ]
     },
     "execution_count": 16,
     "metadata": {},
     "output_type": "execute_result"
    }
   ],
   "source": [
    "order_count"
   ]
  },
  {
   "cell_type": "markdown",
   "id": "b7855847",
   "metadata": {},
   "source": [
    "### 마지막 구매가 6개월(day 180) 전인 사람"
   ]
  },
  {
   "cell_type": "code",
   "execution_count": 17,
   "id": "24ef4542",
   "metadata": {},
   "outputs": [
    {
     "data": {
      "application/vnd.microsoft.datawrangler.viewer.v0+json": {
       "columns": [
        {
         "name": "index",
         "rawType": "int64",
         "type": "integer"
        },
        {
         "name": "customer_id",
         "rawType": "object",
         "type": "string"
        },
        {
         "name": "order_purchase_timestamp",
         "rawType": "datetime64[ns]",
         "type": "datetime"
        }
       ],
       "ref": "de3316aa-17c5-4ed4-bda5-7e41e7407b56",
       "rows": [
        [
         "2",
         "0000f46a3911fa3c0805444483337064",
         "2023-08-10 16:35:00"
        ],
        [
         "3",
         "0000f6ccb0745a6a4b88665a16c9f078",
         "2024-03-12 15:03:00"
        ],
        [
         "4",
         "0004aac84e0df4da2b147fca70cf8255",
         "2024-04-14 13:49:00"
        ],
        [
         "7",
         "00053a61a98854899e70ed204dd4bafe",
         "2024-07-28 16:30:00"
        ],
        [
         "8",
         "0005e1862207bf6ccc02e4228effd9a0",
         "2023-08-04 16:18:00"
        ],
        [
         "10",
         "0006fdc98a402fceb4eb0ee528f6a8d4",
         "2023-12-18 09:19:00"
        ],
        [
         "11",
         "00082cbe03e478190aadbea78542e933",
         "2024-04-19 11:44:00"
        ],
        [
         "14",
         "000a5ad9c4601d2bbdd9ed765d5213b3",
         "2024-01-11 09:18:00"
        ],
        [
         "15",
         "000bfa1d2f1a41876493be685390d6d3",
         "2024-02-29 18:44:00"
        ],
        [
         "16",
         "000c8bdb58a29e7115cfc257230fb21b",
         "2024-05-12 15:13:00"
        ],
        [
         "17",
         "000d460961d6dbfa3ec6c9f5805769e1",
         "2024-06-07 21:45:00"
        ],
        [
         "18",
         "000de6019bb59f34c099a907c151d855",
         "2024-01-17 13:42:00"
        ],
        [
         "23",
         "0010a452c6d13139e50b57f19f52e04e",
         "2023-12-11 09:50:00"
        ],
        [
         "24",
         "0010fb34b966d44409382af9e8fd5b77",
         "2024-08-05 22:00:00"
        ],
        [
         "25",
         "001147e649a7b1afd577e873841632dd",
         "2024-01-31 17:36:00"
        ],
        [
         "26",
         "00115fc7123b5310cf6d3a3aa932699e",
         "2023-06-21 22:12:00"
        ],
        [
         "27",
         "0011805441c0d1b68b48002f1d005526",
         "2023-09-24 13:05:00"
        ],
        [
         "28",
         "0011857aff0e5871ce5eb429f21cdaf5",
         "2023-11-28 07:16:00"
        ],
        [
         "29",
         "0011c98589159d6149979563c504cb21",
         "2024-01-05 10:03:00"
        ],
        [
         "30",
         "0012929d977a8d7280bb277c1e5f589d",
         "2024-03-17 17:39:00"
        ],
        [
         "31",
         "0014a5a58da615f7b01a4f5e194bf5ea",
         "2024-06-18 18:15:00"
        ],
        [
         "34",
         "00191a9719ef48ebb5860b130347bf33",
         "2023-09-19 16:20:00"
        ],
        [
         "35",
         "001926cef41060fae572e2e7b30bd2a4",
         "2024-01-17 16:41:00"
        ],
        [
         "38",
         "00196fdb2bf9edfc35e88ebfbcf8d781",
         "2024-07-22 20:29:00"
        ],
        [
         "39",
         "0019da6aa6bcb27cc32f1249bd12da05",
         "2024-07-11 20:45:00"
        ],
        [
         "41",
         "001a2bf0e46c684031af91fb2bce149d",
         "2023-11-29 06:23:00"
        ],
        [
         "44",
         "001ae44fa04911a9e9577356dce6c63c",
         "2024-04-06 12:34:00"
        ],
        [
         "45",
         "001ae5a1788703d64536c30362503e49",
         "2024-05-08 06:41:00"
        ],
        [
         "47",
         "001f3c4211216384d5fe59b041ce1461",
         "2023-08-19 20:44:00"
        ],
        [
         "48",
         "002043098f10ba39a4600b6c52fbfe3c",
         "2023-08-26 07:09:00"
        ],
        [
         "55",
         "0028a7d8db7b0247652509358ad8d755",
         "2024-05-13 17:55:00"
        ],
        [
         "56",
         "0028cfeb9dfcd3628a56d5b6400deef5",
         "2024-06-07 13:30:00"
        ],
        [
         "57",
         "00293787e2aec37a9c253b63fdfe2049",
         "2024-03-27 07:27:00"
        ],
        [
         "58",
         "0029bd580d3012618731f5abb174a07f",
         "2024-04-02 09:27:00"
        ],
        [
         "59",
         "002aba8c1af80acacef6e011f9f23262",
         "2024-07-27 10:35:00"
        ],
        [
         "60",
         "002ae492472e45ad6ebeb7a625409392",
         "2024-03-08 21:50:00"
        ],
        [
         "61",
         "002b4cd83fabaffaa475f78ea5ef3e08",
         "2023-07-01 12:32:00"
        ],
        [
         "62",
         "002bdeb33da5b1b3ce8b9c822f749c82",
         "2024-05-05 18:20:00"
        ],
        [
         "63",
         "002cdf87d4c03f08f7eb4551a923affc",
         "2024-03-31 19:07:00"
        ],
        [
         "64",
         "002d3bd901608f67c3fc11eaaa842b13",
         "2024-06-15 12:34:00"
        ],
        [
         "65",
         "002d71b244beb91ca7030b15ab526446",
         "2023-10-22 15:11:00"
        ],
        [
         "67",
         "002eb8b96288f3804e21d2777ac29895",
         "2023-12-22 20:35:00"
        ],
        [
         "68",
         "002ed12115742033f015cb3c269ccf68",
         "2024-06-30 10:37:00"
        ],
        [
         "69",
         "002ef00822613c94613e60e03b169fef",
         "2024-07-14 06:45:00"
        ],
        [
         "70",
         "002feefec5af0a3b26ee7839c66d205e",
         "2024-03-29 20:24:00"
        ],
        [
         "71",
         "003035f5ec76f2220098377482de93c9",
         "2024-01-28 10:15:00"
        ],
        [
         "73",
         "00324c9f4d710e7bac5c5ba679714430",
         "2023-11-21 15:01:00"
        ],
        [
         "74",
         "0032c76b20340da25249092a268ce66c",
         "2023-03-06 09:59:00"
        ],
        [
         "80",
         "003650b504826ea534e02eba0ab58dd5",
         "2024-06-17 02:53:00"
        ],
        [
         "81",
         "0036a074f98b80c4f1fc33dbbcf9c552",
         "2023-10-12 21:51:00"
        ]
       ],
       "shape": {
        "columns": 2,
        "rows": 57768
       }
      },
      "text/html": [
       "<div>\n",
       "<style scoped>\n",
       "    .dataframe tbody tr th:only-of-type {\n",
       "        vertical-align: middle;\n",
       "    }\n",
       "\n",
       "    .dataframe tbody tr th {\n",
       "        vertical-align: top;\n",
       "    }\n",
       "\n",
       "    .dataframe thead th {\n",
       "        text-align: right;\n",
       "    }\n",
       "</style>\n",
       "<table border=\"1\" class=\"dataframe\">\n",
       "  <thead>\n",
       "    <tr style=\"text-align: right;\">\n",
       "      <th></th>\n",
       "      <th>customer_id</th>\n",
       "      <th>order_purchase_timestamp</th>\n",
       "    </tr>\n",
       "  </thead>\n",
       "  <tbody>\n",
       "    <tr>\n",
       "      <th>2</th>\n",
       "      <td>0000f46a3911fa3c0805444483337064</td>\n",
       "      <td>2023-08-10 16:35:00</td>\n",
       "    </tr>\n",
       "    <tr>\n",
       "      <th>3</th>\n",
       "      <td>0000f6ccb0745a6a4b88665a16c9f078</td>\n",
       "      <td>2024-03-12 15:03:00</td>\n",
       "    </tr>\n",
       "    <tr>\n",
       "      <th>4</th>\n",
       "      <td>0004aac84e0df4da2b147fca70cf8255</td>\n",
       "      <td>2024-04-14 13:49:00</td>\n",
       "    </tr>\n",
       "    <tr>\n",
       "      <th>7</th>\n",
       "      <td>00053a61a98854899e70ed204dd4bafe</td>\n",
       "      <td>2024-07-28 16:30:00</td>\n",
       "    </tr>\n",
       "    <tr>\n",
       "      <th>8</th>\n",
       "      <td>0005e1862207bf6ccc02e4228effd9a0</td>\n",
       "      <td>2023-08-04 16:18:00</td>\n",
       "    </tr>\n",
       "    <tr>\n",
       "      <th>...</th>\n",
       "      <td>...</td>\n",
       "      <td>...</td>\n",
       "    </tr>\n",
       "    <tr>\n",
       "      <th>95412</th>\n",
       "      <td>fffbf87b7a1a6fa8b03f081c5f51a201</td>\n",
       "      <td>2024-05-27 20:04:00</td>\n",
       "    </tr>\n",
       "    <tr>\n",
       "      <th>95414</th>\n",
       "      <td>fffcf5a5ff07b0908bd4e2dbc735a684</td>\n",
       "      <td>2023-11-08 15:00:00</td>\n",
       "    </tr>\n",
       "    <tr>\n",
       "      <th>95415</th>\n",
       "      <td>fffea47cd6d3cc0a88bd621562a9d061</td>\n",
       "      <td>2024-05-10 12:45:00</td>\n",
       "    </tr>\n",
       "    <tr>\n",
       "      <th>95416</th>\n",
       "      <td>ffff371b4d645b6ecea244b27531430a</td>\n",
       "      <td>2023-07-07 04:15:00</td>\n",
       "    </tr>\n",
       "    <tr>\n",
       "      <th>95418</th>\n",
       "      <td>ffffd2657e2aad2907e67c3e9daecbeb</td>\n",
       "      <td>2023-10-02 22:23:00</td>\n",
       "    </tr>\n",
       "  </tbody>\n",
       "</table>\n",
       "<p>57768 rows × 2 columns</p>\n",
       "</div>"
      ],
      "text/plain": [
       "                            customer_id order_purchase_timestamp\n",
       "2      0000f46a3911fa3c0805444483337064      2023-08-10 16:35:00\n",
       "3      0000f6ccb0745a6a4b88665a16c9f078      2024-03-12 15:03:00\n",
       "4      0004aac84e0df4da2b147fca70cf8255      2024-04-14 13:49:00\n",
       "7      00053a61a98854899e70ed204dd4bafe      2024-07-28 16:30:00\n",
       "8      0005e1862207bf6ccc02e4228effd9a0      2023-08-04 16:18:00\n",
       "...                                 ...                      ...\n",
       "95412  fffbf87b7a1a6fa8b03f081c5f51a201      2024-05-27 20:04:00\n",
       "95414  fffcf5a5ff07b0908bd4e2dbc735a684      2023-11-08 15:00:00\n",
       "95415  fffea47cd6d3cc0a88bd621562a9d061      2024-05-10 12:45:00\n",
       "95416  ffff371b4d645b6ecea244b27531430a      2023-07-07 04:15:00\n",
       "95418  ffffd2657e2aad2907e67c3e9daecbeb      2023-10-02 22:23:00\n",
       "\n",
       "[57768 rows x 2 columns]"
      ]
     },
     "execution_count": 17,
     "metadata": {},
     "output_type": "execute_result"
    }
   ],
   "source": [
    "df['order_purchase_timestamp'] = pd.to_datetime(df['order_purchase_timestamp'])\n",
    "latest_date = df['order_purchase_timestamp'].max()\n",
    "last_purchase = df.groupby('customer_id')['order_purchase_timestamp'].max().reset_index()\n",
    "six_months_ago = latest_date - pd.Timedelta(days=180)\n",
    "churn_customers = last_purchase[last_purchase['order_purchase_timestamp'] <= six_months_ago]\n",
    "len(churn_customers)\n",
    "churn_customers"
   ]
  },
  {
   "cell_type": "markdown",
   "id": "ccdf221c",
   "metadata": {},
   "source": [
    "### 시간대별로 카테고리1"
   ]
  },
  {
   "cell_type": "code",
   "execution_count": 18,
   "id": "dd1fa9b9",
   "metadata": {},
   "outputs": [],
   "source": [
    "df['order_purchase_timestamp'] = pd.to_datetime(df['order_purchase_timestamp'])\n",
    "df['hour'] = df['order_purchase_timestamp'].dt.hour"
   ]
  },
  {
   "cell_type": "code",
   "execution_count": 19,
   "id": "51f1e646",
   "metadata": {},
   "outputs": [],
   "source": [
    "def time_period(hour):\n",
    "    if 6 <= hour < 12:\n",
    "        return '6~12'\n",
    "    elif 12 <= hour < 18:\n",
    "        return '12~18'\n",
    "    elif 18 <= hour < 24:\n",
    "        return '18~24'\n",
    "    else:\n",
    "        return '0~6'"
   ]
  },
  {
   "cell_type": "code",
   "execution_count": 20,
   "id": "9c347b71",
   "metadata": {},
   "outputs": [],
   "source": [
    "df['time_period'] = df['hour'].apply(time_period)"
   ]
  },
  {
   "cell_type": "code",
   "execution_count": 21,
   "id": "38964eba",
   "metadata": {},
   "outputs": [],
   "source": [
    "result = df.groupby(['time_period', 'category1']).size().reset_index(name='order_count')"
   ]
  },
  {
   "cell_type": "code",
   "execution_count": 22,
   "id": "3eb70b50",
   "metadata": {},
   "outputs": [],
   "source": [
    "result = result.sort_values(['time_period', 'order_count'], ascending=[True, False])"
   ]
  },
  {
   "cell_type": "code",
   "execution_count": 23,
   "id": "b87d60b3",
   "metadata": {},
   "outputs": [
    {
     "data": {
      "application/vnd.microsoft.datawrangler.viewer.v0+json": {
       "columns": [
        {
         "name": "index",
         "rawType": "int64",
         "type": "integer"
        },
        {
         "name": "time_period",
         "rawType": "object",
         "type": "string"
        },
        {
         "name": "category1",
         "rawType": "object",
         "type": "string"
        },
        {
         "name": "order_count",
         "rawType": "int64",
         "type": "integer"
        }
       ],
       "ref": "8b3f48f8-5f6a-4b37-9ae9-3577511d19e5",
       "rows": [
        [
         "2",
         "0~6",
         "식품",
         "2272"
        ],
        [
         "3",
         "0~6",
         "의류",
         "1763"
        ],
        [
         "1",
         "0~6",
         "스포츠용품",
         "1633"
        ],
        [
         "4",
         "0~6",
         "전자제품",
         "1628"
        ],
        [
         "5",
         "0~6",
         "화장품",
         "1126"
        ],
        [
         "0",
         "0~6",
         "가구",
         "560"
        ],
        [
         "8",
         "12~18",
         "식품",
         "9321"
        ],
        [
         "9",
         "12~18",
         "의류",
         "7454"
        ],
        [
         "10",
         "12~18",
         "전자제품",
         "6704"
        ],
        [
         "7",
         "12~18",
         "스포츠용품",
         "6664"
        ],
        [
         "11",
         "12~18",
         "화장품",
         "4482"
        ],
        [
         "6",
         "12~18",
         "가구",
         "2092"
        ],
        [
         "14",
         "18~24",
         "식품",
         "11113"
        ],
        [
         "15",
         "18~24",
         "의류",
         "8597"
        ],
        [
         "13",
         "18~24",
         "스포츠용품",
         "8026"
        ],
        [
         "16",
         "18~24",
         "전자제품",
         "7853"
        ],
        [
         "17",
         "18~24",
         "화장품",
         "5346"
        ],
        [
         "12",
         "18~24",
         "가구",
         "2531"
        ],
        [
         "20",
         "6~12",
         "식품",
         "4029"
        ],
        [
         "21",
         "6~12",
         "의류",
         "3209"
        ],
        [
         "19",
         "6~12",
         "스포츠용품",
         "2889"
        ],
        [
         "22",
         "6~12",
         "전자제품",
         "2810"
        ],
        [
         "23",
         "6~12",
         "화장품",
         "1855"
        ],
        [
         "18",
         "6~12",
         "가구",
         "942"
        ]
       ],
       "shape": {
        "columns": 3,
        "rows": 24
       }
      },
      "text/html": [
       "<div>\n",
       "<style scoped>\n",
       "    .dataframe tbody tr th:only-of-type {\n",
       "        vertical-align: middle;\n",
       "    }\n",
       "\n",
       "    .dataframe tbody tr th {\n",
       "        vertical-align: top;\n",
       "    }\n",
       "\n",
       "    .dataframe thead th {\n",
       "        text-align: right;\n",
       "    }\n",
       "</style>\n",
       "<table border=\"1\" class=\"dataframe\">\n",
       "  <thead>\n",
       "    <tr style=\"text-align: right;\">\n",
       "      <th></th>\n",
       "      <th>time_period</th>\n",
       "      <th>category1</th>\n",
       "      <th>order_count</th>\n",
       "    </tr>\n",
       "  </thead>\n",
       "  <tbody>\n",
       "    <tr>\n",
       "      <th>2</th>\n",
       "      <td>0~6</td>\n",
       "      <td>식품</td>\n",
       "      <td>2272</td>\n",
       "    </tr>\n",
       "    <tr>\n",
       "      <th>3</th>\n",
       "      <td>0~6</td>\n",
       "      <td>의류</td>\n",
       "      <td>1763</td>\n",
       "    </tr>\n",
       "    <tr>\n",
       "      <th>1</th>\n",
       "      <td>0~6</td>\n",
       "      <td>스포츠용품</td>\n",
       "      <td>1633</td>\n",
       "    </tr>\n",
       "    <tr>\n",
       "      <th>4</th>\n",
       "      <td>0~6</td>\n",
       "      <td>전자제품</td>\n",
       "      <td>1628</td>\n",
       "    </tr>\n",
       "    <tr>\n",
       "      <th>5</th>\n",
       "      <td>0~6</td>\n",
       "      <td>화장품</td>\n",
       "      <td>1126</td>\n",
       "    </tr>\n",
       "    <tr>\n",
       "      <th>0</th>\n",
       "      <td>0~6</td>\n",
       "      <td>가구</td>\n",
       "      <td>560</td>\n",
       "    </tr>\n",
       "    <tr>\n",
       "      <th>8</th>\n",
       "      <td>12~18</td>\n",
       "      <td>식품</td>\n",
       "      <td>9321</td>\n",
       "    </tr>\n",
       "    <tr>\n",
       "      <th>9</th>\n",
       "      <td>12~18</td>\n",
       "      <td>의류</td>\n",
       "      <td>7454</td>\n",
       "    </tr>\n",
       "    <tr>\n",
       "      <th>10</th>\n",
       "      <td>12~18</td>\n",
       "      <td>전자제품</td>\n",
       "      <td>6704</td>\n",
       "    </tr>\n",
       "    <tr>\n",
       "      <th>7</th>\n",
       "      <td>12~18</td>\n",
       "      <td>스포츠용품</td>\n",
       "      <td>6664</td>\n",
       "    </tr>\n",
       "    <tr>\n",
       "      <th>11</th>\n",
       "      <td>12~18</td>\n",
       "      <td>화장품</td>\n",
       "      <td>4482</td>\n",
       "    </tr>\n",
       "    <tr>\n",
       "      <th>6</th>\n",
       "      <td>12~18</td>\n",
       "      <td>가구</td>\n",
       "      <td>2092</td>\n",
       "    </tr>\n",
       "    <tr>\n",
       "      <th>14</th>\n",
       "      <td>18~24</td>\n",
       "      <td>식품</td>\n",
       "      <td>11113</td>\n",
       "    </tr>\n",
       "    <tr>\n",
       "      <th>15</th>\n",
       "      <td>18~24</td>\n",
       "      <td>의류</td>\n",
       "      <td>8597</td>\n",
       "    </tr>\n",
       "    <tr>\n",
       "      <th>13</th>\n",
       "      <td>18~24</td>\n",
       "      <td>스포츠용품</td>\n",
       "      <td>8026</td>\n",
       "    </tr>\n",
       "    <tr>\n",
       "      <th>16</th>\n",
       "      <td>18~24</td>\n",
       "      <td>전자제품</td>\n",
       "      <td>7853</td>\n",
       "    </tr>\n",
       "    <tr>\n",
       "      <th>17</th>\n",
       "      <td>18~24</td>\n",
       "      <td>화장품</td>\n",
       "      <td>5346</td>\n",
       "    </tr>\n",
       "    <tr>\n",
       "      <th>12</th>\n",
       "      <td>18~24</td>\n",
       "      <td>가구</td>\n",
       "      <td>2531</td>\n",
       "    </tr>\n",
       "    <tr>\n",
       "      <th>20</th>\n",
       "      <td>6~12</td>\n",
       "      <td>식품</td>\n",
       "      <td>4029</td>\n",
       "    </tr>\n",
       "    <tr>\n",
       "      <th>21</th>\n",
       "      <td>6~12</td>\n",
       "      <td>의류</td>\n",
       "      <td>3209</td>\n",
       "    </tr>\n",
       "    <tr>\n",
       "      <th>19</th>\n",
       "      <td>6~12</td>\n",
       "      <td>스포츠용품</td>\n",
       "      <td>2889</td>\n",
       "    </tr>\n",
       "    <tr>\n",
       "      <th>22</th>\n",
       "      <td>6~12</td>\n",
       "      <td>전자제품</td>\n",
       "      <td>2810</td>\n",
       "    </tr>\n",
       "    <tr>\n",
       "      <th>23</th>\n",
       "      <td>6~12</td>\n",
       "      <td>화장품</td>\n",
       "      <td>1855</td>\n",
       "    </tr>\n",
       "    <tr>\n",
       "      <th>18</th>\n",
       "      <td>6~12</td>\n",
       "      <td>가구</td>\n",
       "      <td>942</td>\n",
       "    </tr>\n",
       "  </tbody>\n",
       "</table>\n",
       "</div>"
      ],
      "text/plain": [
       "   time_period category1  order_count\n",
       "2          0~6        식품         2272\n",
       "3          0~6        의류         1763\n",
       "1          0~6     스포츠용품         1633\n",
       "4          0~6      전자제품         1628\n",
       "5          0~6       화장품         1126\n",
       "0          0~6        가구          560\n",
       "8        12~18        식품         9321\n",
       "9        12~18        의류         7454\n",
       "10       12~18      전자제품         6704\n",
       "7        12~18     스포츠용품         6664\n",
       "11       12~18       화장품         4482\n",
       "6        12~18        가구         2092\n",
       "14       18~24        식품        11113\n",
       "15       18~24        의류         8597\n",
       "13       18~24     스포츠용품         8026\n",
       "16       18~24      전자제품         7853\n",
       "17       18~24       화장품         5346\n",
       "12       18~24        가구         2531\n",
       "20        6~12        식품         4029\n",
       "21        6~12        의류         3209\n",
       "19        6~12     스포츠용품         2889\n",
       "22        6~12      전자제품         2810\n",
       "23        6~12       화장품         1855\n",
       "18        6~12        가구          942"
      ]
     },
     "execution_count": 23,
     "metadata": {},
     "output_type": "execute_result"
    }
   ],
   "source": [
    "result"
   ]
  },
  {
   "cell_type": "code",
   "execution_count": 24,
   "id": "b4c604b2",
   "metadata": {},
   "outputs": [
    {
     "data": {
      "text/plain": [
       "<bound method DataFrame.sort_values of    time_period category1  order_count\n",
       "2          0~6        식품         2272\n",
       "3          0~6        의류         1763\n",
       "1          0~6     스포츠용품         1633\n",
       "4          0~6      전자제품         1628\n",
       "5          0~6       화장품         1126\n",
       "0          0~6        가구          560\n",
       "8        12~18        식품         9321\n",
       "9        12~18        의류         7454\n",
       "10       12~18      전자제품         6704\n",
       "7        12~18     스포츠용품         6664\n",
       "11       12~18       화장품         4482\n",
       "6        12~18        가구         2092\n",
       "14       18~24        식품        11113\n",
       "15       18~24        의류         8597\n",
       "13       18~24     스포츠용품         8026\n",
       "16       18~24      전자제품         7853\n",
       "17       18~24       화장품         5346\n",
       "12       18~24        가구         2531\n",
       "20        6~12        식품         4029\n",
       "21        6~12        의류         3209\n",
       "19        6~12     스포츠용품         2889\n",
       "22        6~12      전자제품         2810\n",
       "23        6~12       화장품         1855\n",
       "18        6~12        가구          942>"
      ]
     },
     "execution_count": 24,
     "metadata": {},
     "output_type": "execute_result"
    }
   ],
   "source": [
    "result.sort_values"
   ]
  },
  {
   "cell_type": "markdown",
   "id": "0341d3c8",
   "metadata": {},
   "source": [
    "### 카테고리1 별 구매량"
   ]
  },
  {
   "cell_type": "code",
   "execution_count": 25,
   "id": "c7dc604a",
   "metadata": {},
   "outputs": [
    {
     "data": {
      "application/vnd.microsoft.datawrangler.viewer.v0+json": {
       "columns": [
        {
         "name": "index",
         "rawType": "int64",
         "type": "integer"
        },
        {
         "name": "category1",
         "rawType": "object",
         "type": "string"
        },
        {
         "name": "order_count",
         "rawType": "int64",
         "type": "integer"
        }
       ],
       "ref": "4c036045-1b15-4ea0-8087-8fb52fbabb79",
       "rows": [
        [
         "2",
         "식품",
         "26735"
        ],
        [
         "3",
         "의류",
         "21023"
        ],
        [
         "1",
         "스포츠용품",
         "19212"
        ],
        [
         "4",
         "전자제품",
         "18995"
        ],
        [
         "5",
         "화장품",
         "12809"
        ],
        [
         "0",
         "가구",
         "6125"
        ]
       ],
       "shape": {
        "columns": 2,
        "rows": 6
       }
      },
      "text/html": [
       "<div>\n",
       "<style scoped>\n",
       "    .dataframe tbody tr th:only-of-type {\n",
       "        vertical-align: middle;\n",
       "    }\n",
       "\n",
       "    .dataframe tbody tr th {\n",
       "        vertical-align: top;\n",
       "    }\n",
       "\n",
       "    .dataframe thead th {\n",
       "        text-align: right;\n",
       "    }\n",
       "</style>\n",
       "<table border=\"1\" class=\"dataframe\">\n",
       "  <thead>\n",
       "    <tr style=\"text-align: right;\">\n",
       "      <th></th>\n",
       "      <th>category1</th>\n",
       "      <th>order_count</th>\n",
       "    </tr>\n",
       "  </thead>\n",
       "  <tbody>\n",
       "    <tr>\n",
       "      <th>2</th>\n",
       "      <td>식품</td>\n",
       "      <td>26735</td>\n",
       "    </tr>\n",
       "    <tr>\n",
       "      <th>3</th>\n",
       "      <td>의류</td>\n",
       "      <td>21023</td>\n",
       "    </tr>\n",
       "    <tr>\n",
       "      <th>1</th>\n",
       "      <td>스포츠용품</td>\n",
       "      <td>19212</td>\n",
       "    </tr>\n",
       "    <tr>\n",
       "      <th>4</th>\n",
       "      <td>전자제품</td>\n",
       "      <td>18995</td>\n",
       "    </tr>\n",
       "    <tr>\n",
       "      <th>5</th>\n",
       "      <td>화장품</td>\n",
       "      <td>12809</td>\n",
       "    </tr>\n",
       "    <tr>\n",
       "      <th>0</th>\n",
       "      <td>가구</td>\n",
       "      <td>6125</td>\n",
       "    </tr>\n",
       "  </tbody>\n",
       "</table>\n",
       "</div>"
      ],
      "text/plain": [
       "  category1  order_count\n",
       "2        식품        26735\n",
       "3        의류        21023\n",
       "1     스포츠용품        19212\n",
       "4      전자제품        18995\n",
       "5       화장품        12809\n",
       "0        가구         6125"
      ]
     },
     "execution_count": 25,
     "metadata": {},
     "output_type": "execute_result"
    }
   ],
   "source": [
    "category1_count = df.groupby('category1')['order_id'].count().reset_index()\n",
    "category1_count = category1_count.rename(columns={'order_id': 'order_count'})\n",
    "category1_count = category1_count.sort_values('order_count', ascending=False)\n",
    "category1_count"
   ]
  },
  {
   "cell_type": "markdown",
   "id": "f7b4c0b8",
   "metadata": {},
   "source": [
    "### 카테고리2 별 구매량"
   ]
  },
  {
   "cell_type": "code",
   "execution_count": 26,
   "id": "25618f7c",
   "metadata": {},
   "outputs": [
    {
     "data": {
      "application/vnd.microsoft.datawrangler.viewer.v0+json": {
       "columns": [
        {
         "name": "index",
         "rawType": "int64",
         "type": "integer"
        },
        {
         "name": "category2",
         "rawType": "object",
         "type": "string"
        },
        {
         "name": "order_count",
         "rawType": "int64",
         "type": "integer"
        }
       ],
       "ref": "2ff56ee7-821a-4ad7-a5a8-1c8b17735d55",
       "rows": [
        [
         "4",
         "건강식품",
         "9040"
        ],
        [
         "22",
         "신선식품",
         "8864"
        ],
        [
         "1",
         "가공식품",
         "8831"
        ],
        [
         "6",
         "낚세",
         "4852"
        ],
        [
         "32",
         "캠핑",
         "4826"
        ],
        [
         "11",
         "등산",
         "4824"
        ],
        [
         "5",
         "골프",
         "4710"
        ],
        [
         "24",
         "여성의류",
         "4294"
        ],
        [
         "26",
         "유아의류",
         "4263"
        ],
        [
         "21",
         "스포츠의류",
         "4168"
        ],
        [
         "33",
         "파티의류",
         "4154"
        ],
        [
         "7",
         "남성의류",
         "4144"
        ],
        [
         "13",
         "메이크업",
         "3304"
        ],
        [
         "15",
         "비데",
         "2816"
        ],
        [
         "17",
         "세탁기/건조기",
         "2762"
        ],
        [
         "3",
         "건강가전",
         "2718"
        ],
        [
         "28",
         "주방가전",
         "2682"
        ],
        [
         "9",
         "냉장고",
         "2680"
        ],
        [
         "27",
         "음향가전",
         "2679"
        ],
        [
         "30",
         "청소기",
         "2658"
        ],
        [
         "20",
         "스킨케어",
         "1766"
        ],
        [
         "16",
         "선케어",
         "1132"
        ],
        [
         "34",
         "향수",
         "1123"
        ],
        [
         "35",
         "헤어케어",
         "1121"
        ],
        [
         "12",
         "마스크/팩",
         "1112"
        ],
        [
         "10",
         "네일케어",
         "1095"
        ],
        [
         "8",
         "남성화장품",
         "1082"
        ],
        [
         "14",
         "바디케어",
         "1074"
        ],
        [
         "18",
         "쇼파",
         "713"
        ],
        [
         "2",
         "거실장/테이블",
         "705"
        ],
        [
         "23",
         "야외가구",
         "702"
        ],
        [
         "31",
         "침대",
         "694"
        ],
        [
         "25",
         "옷장/행거",
         "691"
        ],
        [
         "19",
         "수납장/선반",
         "687"
        ],
        [
         "29",
         "책상/책장",
         "654"
        ],
        [
         "0",
         "1인가구",
         "640"
        ],
        [
         "36",
         "화장대",
         "639"
        ]
       ],
       "shape": {
        "columns": 2,
        "rows": 37
       }
      },
      "text/html": [
       "<div>\n",
       "<style scoped>\n",
       "    .dataframe tbody tr th:only-of-type {\n",
       "        vertical-align: middle;\n",
       "    }\n",
       "\n",
       "    .dataframe tbody tr th {\n",
       "        vertical-align: top;\n",
       "    }\n",
       "\n",
       "    .dataframe thead th {\n",
       "        text-align: right;\n",
       "    }\n",
       "</style>\n",
       "<table border=\"1\" class=\"dataframe\">\n",
       "  <thead>\n",
       "    <tr style=\"text-align: right;\">\n",
       "      <th></th>\n",
       "      <th>category2</th>\n",
       "      <th>order_count</th>\n",
       "    </tr>\n",
       "  </thead>\n",
       "  <tbody>\n",
       "    <tr>\n",
       "      <th>4</th>\n",
       "      <td>건강식품</td>\n",
       "      <td>9040</td>\n",
       "    </tr>\n",
       "    <tr>\n",
       "      <th>22</th>\n",
       "      <td>신선식품</td>\n",
       "      <td>8864</td>\n",
       "    </tr>\n",
       "    <tr>\n",
       "      <th>1</th>\n",
       "      <td>가공식품</td>\n",
       "      <td>8831</td>\n",
       "    </tr>\n",
       "    <tr>\n",
       "      <th>6</th>\n",
       "      <td>낚세</td>\n",
       "      <td>4852</td>\n",
       "    </tr>\n",
       "    <tr>\n",
       "      <th>32</th>\n",
       "      <td>캠핑</td>\n",
       "      <td>4826</td>\n",
       "    </tr>\n",
       "    <tr>\n",
       "      <th>11</th>\n",
       "      <td>등산</td>\n",
       "      <td>4824</td>\n",
       "    </tr>\n",
       "    <tr>\n",
       "      <th>5</th>\n",
       "      <td>골프</td>\n",
       "      <td>4710</td>\n",
       "    </tr>\n",
       "    <tr>\n",
       "      <th>24</th>\n",
       "      <td>여성의류</td>\n",
       "      <td>4294</td>\n",
       "    </tr>\n",
       "    <tr>\n",
       "      <th>26</th>\n",
       "      <td>유아의류</td>\n",
       "      <td>4263</td>\n",
       "    </tr>\n",
       "    <tr>\n",
       "      <th>21</th>\n",
       "      <td>스포츠의류</td>\n",
       "      <td>4168</td>\n",
       "    </tr>\n",
       "    <tr>\n",
       "      <th>33</th>\n",
       "      <td>파티의류</td>\n",
       "      <td>4154</td>\n",
       "    </tr>\n",
       "    <tr>\n",
       "      <th>7</th>\n",
       "      <td>남성의류</td>\n",
       "      <td>4144</td>\n",
       "    </tr>\n",
       "    <tr>\n",
       "      <th>13</th>\n",
       "      <td>메이크업</td>\n",
       "      <td>3304</td>\n",
       "    </tr>\n",
       "    <tr>\n",
       "      <th>15</th>\n",
       "      <td>비데</td>\n",
       "      <td>2816</td>\n",
       "    </tr>\n",
       "    <tr>\n",
       "      <th>17</th>\n",
       "      <td>세탁기/건조기</td>\n",
       "      <td>2762</td>\n",
       "    </tr>\n",
       "    <tr>\n",
       "      <th>3</th>\n",
       "      <td>건강가전</td>\n",
       "      <td>2718</td>\n",
       "    </tr>\n",
       "    <tr>\n",
       "      <th>28</th>\n",
       "      <td>주방가전</td>\n",
       "      <td>2682</td>\n",
       "    </tr>\n",
       "    <tr>\n",
       "      <th>9</th>\n",
       "      <td>냉장고</td>\n",
       "      <td>2680</td>\n",
       "    </tr>\n",
       "    <tr>\n",
       "      <th>27</th>\n",
       "      <td>음향가전</td>\n",
       "      <td>2679</td>\n",
       "    </tr>\n",
       "    <tr>\n",
       "      <th>30</th>\n",
       "      <td>청소기</td>\n",
       "      <td>2658</td>\n",
       "    </tr>\n",
       "    <tr>\n",
       "      <th>20</th>\n",
       "      <td>스킨케어</td>\n",
       "      <td>1766</td>\n",
       "    </tr>\n",
       "    <tr>\n",
       "      <th>16</th>\n",
       "      <td>선케어</td>\n",
       "      <td>1132</td>\n",
       "    </tr>\n",
       "    <tr>\n",
       "      <th>34</th>\n",
       "      <td>향수</td>\n",
       "      <td>1123</td>\n",
       "    </tr>\n",
       "    <tr>\n",
       "      <th>35</th>\n",
       "      <td>헤어케어</td>\n",
       "      <td>1121</td>\n",
       "    </tr>\n",
       "    <tr>\n",
       "      <th>12</th>\n",
       "      <td>마스크/팩</td>\n",
       "      <td>1112</td>\n",
       "    </tr>\n",
       "    <tr>\n",
       "      <th>10</th>\n",
       "      <td>네일케어</td>\n",
       "      <td>1095</td>\n",
       "    </tr>\n",
       "    <tr>\n",
       "      <th>8</th>\n",
       "      <td>남성화장품</td>\n",
       "      <td>1082</td>\n",
       "    </tr>\n",
       "    <tr>\n",
       "      <th>14</th>\n",
       "      <td>바디케어</td>\n",
       "      <td>1074</td>\n",
       "    </tr>\n",
       "    <tr>\n",
       "      <th>18</th>\n",
       "      <td>쇼파</td>\n",
       "      <td>713</td>\n",
       "    </tr>\n",
       "    <tr>\n",
       "      <th>2</th>\n",
       "      <td>거실장/테이블</td>\n",
       "      <td>705</td>\n",
       "    </tr>\n",
       "    <tr>\n",
       "      <th>23</th>\n",
       "      <td>야외가구</td>\n",
       "      <td>702</td>\n",
       "    </tr>\n",
       "    <tr>\n",
       "      <th>31</th>\n",
       "      <td>침대</td>\n",
       "      <td>694</td>\n",
       "    </tr>\n",
       "    <tr>\n",
       "      <th>25</th>\n",
       "      <td>옷장/행거</td>\n",
       "      <td>691</td>\n",
       "    </tr>\n",
       "    <tr>\n",
       "      <th>19</th>\n",
       "      <td>수납장/선반</td>\n",
       "      <td>687</td>\n",
       "    </tr>\n",
       "    <tr>\n",
       "      <th>29</th>\n",
       "      <td>책상/책장</td>\n",
       "      <td>654</td>\n",
       "    </tr>\n",
       "    <tr>\n",
       "      <th>0</th>\n",
       "      <td>1인가구</td>\n",
       "      <td>640</td>\n",
       "    </tr>\n",
       "    <tr>\n",
       "      <th>36</th>\n",
       "      <td>화장대</td>\n",
       "      <td>639</td>\n",
       "    </tr>\n",
       "  </tbody>\n",
       "</table>\n",
       "</div>"
      ],
      "text/plain": [
       "   category2  order_count\n",
       "4       건강식품         9040\n",
       "22      신선식품         8864\n",
       "1       가공식품         8831\n",
       "6         낚세         4852\n",
       "32        캠핑         4826\n",
       "11        등산         4824\n",
       "5         골프         4710\n",
       "24      여성의류         4294\n",
       "26      유아의류         4263\n",
       "21     스포츠의류         4168\n",
       "33      파티의류         4154\n",
       "7       남성의류         4144\n",
       "13      메이크업         3304\n",
       "15        비데         2816\n",
       "17   세탁기/건조기         2762\n",
       "3       건강가전         2718\n",
       "28      주방가전         2682\n",
       "9        냉장고         2680\n",
       "27      음향가전         2679\n",
       "30       청소기         2658\n",
       "20      스킨케어         1766\n",
       "16       선케어         1132\n",
       "34        향수         1123\n",
       "35      헤어케어         1121\n",
       "12     마스크/팩         1112\n",
       "10      네일케어         1095\n",
       "8      남성화장품         1082\n",
       "14      바디케어         1074\n",
       "18        쇼파          713\n",
       "2    거실장/테이블          705\n",
       "23      야외가구          702\n",
       "31        침대          694\n",
       "25     옷장/행거          691\n",
       "19    수납장/선반          687\n",
       "29     책상/책장          654\n",
       "0       1인가구          640\n",
       "36       화장대          639"
      ]
     },
     "execution_count": 26,
     "metadata": {},
     "output_type": "execute_result"
    }
   ],
   "source": [
    "category2_count = df.groupby('category2')['order_id'].count().reset_index()\n",
    "category2_count = category2_count.rename(columns={'order_id': 'order_count'})\n",
    "category2_count = category2_count.sort_values('order_count', ascending=False)\n",
    "category2_count"
   ]
  },
  {
   "cell_type": "markdown",
   "id": "de1924ef",
   "metadata": {},
   "source": [
    "### 이탈감지"
   ]
  },
  {
   "cell_type": "markdown",
   "id": "6bd45eeb",
   "metadata": {},
   "source": [
    "### 충성고객"
   ]
  },
  {
   "cell_type": "markdown",
   "id": "3e0fbebf",
   "metadata": {},
   "source": [
    "### 카테고리별 맞춤고객"
   ]
  }
 ],
 "metadata": {
  "kernelspec": {
   "display_name": "venv",
   "language": "python",
   "name": "python3"
  },
  "language_info": {
   "codemirror_mode": {
    "name": "ipython",
    "version": 3
   },
   "file_extension": ".py",
   "mimetype": "text/x-python",
   "name": "python",
   "nbconvert_exporter": "python",
   "pygments_lexer": "ipython3",
   "version": "3.13.5"
  }
 },
 "nbformat": 4,
 "nbformat_minor": 5
}
